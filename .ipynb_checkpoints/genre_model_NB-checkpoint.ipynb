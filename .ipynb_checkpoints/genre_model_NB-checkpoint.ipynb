{
 "cells": [
  {
   "cell_type": "code",
   "execution_count": 1,
   "metadata": {
    "collapsed": true
   },
   "outputs": [],
   "source": [
    "from pyspark.sql import SparkSession\n",
    "from pyspark.ml.feature import Tokenizer, HashingTF, IDF, VectorAssembler, StringIndexer\n",
    "import pandas as pd"
   ]
  },
  {
   "cell_type": "code",
   "execution_count": 2,
   "metadata": {},
   "outputs": [],
   "source": [
    "spark = SparkSession.builder.appName('genre_N-B').getOrCreate()"
   ]
  },
  {
   "cell_type": "code",
   "execution_count": 3,
   "metadata": {},
   "outputs": [
    {
     "name": "stdout",
     "output_type": "stream",
     "text": [
      "+---+--------+--------------------+-------------+-----------+--------------+---------+\n",
      "|_c0|   genre|     body_text_clean|genre_Country|genre_Other|genre_Pop/Rock|genre_Rap|\n",
      "+---+--------+--------------------+-------------+-----------+--------------+---------+\n",
      "|  0|     Rap|drake scorpion fe...|            0|          0|             0|        1|\n",
      "| 11|     Rap|drake scorpion sa...|            0|          0|             0|        1|\n",
      "| 15|     Rap|drake scorpion su...|            0|          0|             0|        1|\n",
      "| 21|     Rap|drake feat michae...|            0|          0|             0|        1|\n",
      "| 24|     Rap|drake scorpion 14...|            0|          0|             0|        1|\n",
      "| 32|Pop/Rock|maroon 5 red pill...|            0|          0|             1|        0|\n",
      "| 34|Pop/Rock|maroon 5 feat lun...|            0|          0|             1|        0|\n",
      "| 37|Pop/Rock|maroon 5 red pill...|            0|          0|             1|        0|\n",
      "| 42|Pop/Rock|maroon 5 feat fut...|            0|          0|             1|        0|\n",
      "| 43|Pop/Rock|maroon 5 red pill...|            0|          0|             1|        0|\n",
      "| 44|Pop/Rock|maroon 5 red pill...|            0|          0|             1|        0|\n",
      "| 46|Pop/Rock|maroon 5 red pill...|            0|          0|             1|        0|\n",
      "| 50|Pop/Rock|maroon 5 red pill...|            0|          0|             1|        0|\n",
      "| 57|     Rap|cardi b invas pri...|            0|          0|             0|        1|\n",
      "| 58|     Rap|cardi b feat chan...|            0|          0|             0|        1|\n",
      "| 63|     Rap|cardi b invas pri...|            0|          0|             0|        1|\n",
      "| 68| Country|kenni chesney son...|            1|          0|             0|        0|\n",
      "| 78|     Rap|post malon beerbo...|            0|          0|             0|        1|\n",
      "| 79|     Rap|post malon beerbo...|            0|          0|             0|        1|\n",
      "| 82|     Rap|post malon beerbo...|            0|          0|             0|        1|\n",
      "+---+--------+--------------------+-------------+-----------+--------------+---------+\n",
      "only showing top 20 rows\n",
      "\n"
     ]
    }
   ],
   "source": [
    "lyric_data = spark.read.format('csv').option('header','true').load('genre_NB.csv')\n",
    "lyric_data.show()"
   ]
  },
  {
   "cell_type": "code",
   "execution_count": 4,
   "metadata": {},
   "outputs": [
    {
     "name": "stdout",
     "output_type": "stream",
     "text": [
      "+---+--------+--------------------+-------------+-----------+--------------+---------+------+\n",
      "|_c0|   genre|     body_text_clean|genre_Country|genre_Other|genre_Pop/Rock|genre_Rap|length|\n",
      "+---+--------+--------------------+-------------+-----------+--------------+---------+------+\n",
      "|  0|     Rap|drake scorpion fe...|            0|          0|             0|        1|   610|\n",
      "| 11|     Rap|drake scorpion sa...|            0|          0|             0|        1|   653|\n",
      "| 15|     Rap|drake scorpion su...|            0|          0|             0|        1|   359|\n",
      "| 21|     Rap|drake feat michae...|            0|          0|             0|        1|   324|\n",
      "| 24|     Rap|drake scorpion 14...|            0|          0|             0|        1|   573|\n",
      "| 32|Pop/Rock|maroon 5 red pill...|            0|          0|             1|        0|   301|\n",
      "| 34|Pop/Rock|maroon 5 feat lun...|            0|          0|             1|        0|   390|\n",
      "| 37|Pop/Rock|maroon 5 red pill...|            0|          0|             1|        0|   326|\n",
      "| 42|Pop/Rock|maroon 5 feat fut...|            0|          0|             1|        0|   551|\n",
      "| 43|Pop/Rock|maroon 5 red pill...|            0|          0|             1|        0|   614|\n",
      "| 44|Pop/Rock|maroon 5 red pill...|            0|          0|             1|        0|   503|\n",
      "| 46|Pop/Rock|maroon 5 red pill...|            0|          0|             1|        0|   505|\n",
      "| 50|Pop/Rock|maroon 5 red pill...|            0|          0|             1|        0|   402|\n",
      "| 57|     Rap|cardi b invas pri...|            0|          0|             0|        1|   776|\n",
      "| 58|     Rap|cardi b feat chan...|            0|          0|             0|        1|  1052|\n",
      "| 63|     Rap|cardi b invas pri...|            0|          0|             0|        1|   590|\n",
      "| 68| Country|kenni chesney son...|            1|          0|             0|        0|   339|\n",
      "| 78|     Rap|post malon beerbo...|            0|          0|             0|        1|   881|\n",
      "| 79|     Rap|post malon beerbo...|            0|          0|             0|        1|   644|\n",
      "| 82|     Rap|post malon beerbo...|            0|          0|             0|        1|   303|\n",
      "+---+--------+--------------------+-------------+-----------+--------------+---------+------+\n",
      "only showing top 20 rows\n",
      "\n"
     ]
    }
   ],
   "source": [
    "from pyspark.sql.functions import length\n",
    "data = lyric_data.withColumn('length', length(lyric_data['body_text_clean']))\n",
    "data.show()"
   ]
  },
  {
   "cell_type": "code",
   "execution_count": null,
   "metadata": {
    "collapsed": true
   },
   "outputs": [],
   "source": [
    "pos_to_neg_number = StringIndexer(inputCol=\"\")"
   ]
  }
 ],
 "metadata": {
  "kernelspec": {
   "display_name": "Python 3",
   "language": "python",
   "name": "python3"
  },
  "language_info": {
   "codemirror_mode": {
    "name": "ipython",
    "version": 3
   },
   "file_extension": ".py",
   "mimetype": "text/x-python",
   "name": "python",
   "nbconvert_exporter": "python",
   "pygments_lexer": "ipython3",
   "version": "3.6.3"
  }
 },
 "nbformat": 4,
 "nbformat_minor": 2
}
