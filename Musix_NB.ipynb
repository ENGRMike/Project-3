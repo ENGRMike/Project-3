{
 "cells": [
  {
   "cell_type": "code",
   "execution_count": 1,
   "metadata": {
    "collapsed": true
   },
   "outputs": [],
   "source": [
    "from pyspark.sql import SparkSession\n",
    "from pyspark.ml.feature import Tokenizer, HashingTF, IDF, VectorAssembler, StringIndexer\n",
    "import pandas as pd"
   ]
  },
  {
   "cell_type": "code",
   "execution_count": 2,
   "metadata": {
    "collapsed": true
   },
   "outputs": [],
   "source": [
    "spark = SparkSession.builder.appName('N-B').getOrCreate()"
   ]
  },
  {
   "cell_type": "code",
   "execution_count": 3,
   "metadata": {},
   "outputs": [
    {
     "name": "stdout",
     "output_type": "stream",
     "text": [
      "+---+--------+--------------------+-------------+\n",
      "|_c0|explicit|     body_text_clean|explicit text|\n",
      "+---+--------+--------------------+-------------+\n",
      "|  0|       1|drake feel trap t...|          yes|\n",
      "|  1|       1|dj khale feat jus...|          yes|\n",
      "|  2|       1|maroon 5 feat car...|          yes|\n",
      "|  3|       1|cardi b feat bad ...|          yes|\n",
      "|  4|       1|6ix9in feat nicki...|          yes|\n",
      "|  5|       0|kenni chesney get...|           no|\n",
      "|  6|       0|imagin dragon nat...|           no|\n",
      "|  7|       1|post malon better...|          yes|\n",
      "|  8|       1|florida georgia l...|          yes|\n",
      "|  9|       0|demi lovato sober...|           no|\n",
      "| 10|       1|5 second summer y...|          yes|\n",
      "| 11|       0|lauren daigl say ...|           no|\n",
      "| 12|       1|brett young merci...|          yes|\n",
      "| 13|       1|juic wrld lucid d...|          yes|\n",
      "| 14|       1|khalid normani lo...|          yes|\n",
      "| 15|       1|taylor swift deli...|          yes|\n",
      "| 16|       1|jason aldean feat...|          yes|\n",
      "| 17|       1|tyga feat offset ...|          yes|\n",
      "| 18|       0|imagin dragon wha...|           no|\n",
      "| 19|       0|dan shay tequila ...|           no|\n",
      "+---+--------+--------------------+-------------+\n",
      "only showing top 20 rows\n",
      "\n"
     ]
    }
   ],
   "source": [
    "lyric_data = spark.read.format('csv').option('header', 'true').load('more_lyrics_cleaned.csv')\n",
    "lyric_data.show()"
   ]
  },
  {
   "cell_type": "code",
   "execution_count": 4,
   "metadata": {
    "scrolled": true
   },
   "outputs": [
    {
     "name": "stdout",
     "output_type": "stream",
     "text": [
      "+---+--------+--------------------+-------------+------+\n",
      "|_c0|explicit|     body_text_clean|explicit text|length|\n",
      "+---+--------+--------------------+-------------+------+\n",
      "|  0|       1|drake feel trap t...|          yes|   601|\n",
      "|  1|       1|dj khale feat jus...|          yes|   872|\n",
      "|  2|       1|maroon 5 feat car...|          yes|   570|\n",
      "|  3|       1|cardi b feat bad ...|          yes|   906|\n",
      "|  4|       1|6ix9in feat nicki...|          yes|   617|\n",
      "|  5|       0|kenni chesney get...|           no|   388|\n",
      "|  6|       0|imagin dragon nat...|           no|   408|\n",
      "|  7|       1|post malon better...|          yes|   538|\n",
      "|  8|       1|florida georgia l...|          yes|   355|\n",
      "|  9|       0|demi lovato sober...|           no|   281|\n",
      "| 10|       1|5 second summer y...|          yes|   474|\n",
      "| 11|       0|lauren daigl say ...|           no|   282|\n",
      "| 12|       1|brett young merci...|          yes|   289|\n",
      "| 13|       1|juic wrld lucid d...|          yes|   525|\n",
      "| 14|       1|khalid normani lo...|          yes|   402|\n",
      "| 15|       1|taylor swift deli...|          yes|   429|\n",
      "| 16|       1|jason aldean feat...|          yes|   313|\n",
      "| 17|       1|tyga feat offset ...|          yes|   757|\n",
      "| 18|       0|imagin dragon wha...|           no|   464|\n",
      "| 19|       0|dan shay tequila ...|           no|   326|\n",
      "+---+--------+--------------------+-------------+------+\n",
      "only showing top 20 rows\n",
      "\n"
     ]
    }
   ],
   "source": [
    "from pyspark.sql.functions import length\n",
    "data = lyric_data.withColumn('length', length(lyric_data['body_text_clean']))\n",
    "data.show()"
   ]
  },
  {
   "cell_type": "code",
   "execution_count": 5,
   "metadata": {
    "collapsed": true
   },
   "outputs": [],
   "source": [
    "#create all features to data set\n",
    "pos_to_neg_number = StringIndexer(inputCol='explicit text', outputCol='label')\n",
    "tokenizer = Tokenizer(inputCol='body_text_clean', outputCol='token_lyrics')\n",
    "hashingTF = HashingTF(inputCol='token_lyrics', outputCol='hash_lyrics')\n",
    "idf = IDF(inputCol='hash_lyrics', outputCol='idf_lyrics')"
   ]
  },
  {
   "cell_type": "code",
   "execution_count": 6,
   "metadata": {
    "collapsed": true
   },
   "outputs": [],
   "source": [
    "#create feature vectors\n",
    "from pyspark.ml.linalg import Vector\n",
    "\n",
    "clean_up = VectorAssembler(inputCols=['idf_lyrics', 'length'], outputCol='features')\n"
   ]
  },
  {
   "cell_type": "code",
   "execution_count": 7,
   "metadata": {
    "collapsed": true
   },
   "outputs": [],
   "source": [
    "#create and run a data processing pipeline\n",
    "\n",
    "from pyspark.ml import Pipeline\n",
    "\n",
    "data_prep_pipeline = Pipeline(stages=[pos_to_neg_number, tokenizer, hashingTF, idf, clean_up])"
   ]
  },
  {
   "cell_type": "code",
   "execution_count": 8,
   "metadata": {},
   "outputs": [],
   "source": [
    "#fit and transform pipeline\n",
    "cleaner = data_prep_pipeline.fit(data)\n",
    "cleaned = cleaner.transform(data)"
   ]
  },
  {
   "cell_type": "code",
   "execution_count": 9,
   "metadata": {},
   "outputs": [
    {
     "name": "stdout",
     "output_type": "stream",
     "text": [
      "+-----+--------------------+\n",
      "|label|            features|\n",
      "+-----+--------------------+\n",
      "|  1.0|(262145,[1353,907...|\n",
      "|  1.0|(262145,[2437,705...|\n",
      "|  1.0|(262145,[5381,844...|\n",
      "|  1.0|(262145,[1133,243...|\n",
      "|  1.0|(262145,[1353,247...|\n",
      "|  0.0|(262145,[1353,177...|\n",
      "|  0.0|(262145,[1879,576...|\n",
      "|  1.0|(262145,[991,3924...|\n",
      "|  1.0|(262145,[2437,110...|\n",
      "|  0.0|(262145,[4914,576...|\n",
      "|  1.0|(262145,[9129,112...|\n",
      "|  0.0|(262145,[4900,147...|\n",
      "|  1.0|(262145,[24150,25...|\n",
      "|  1.0|(262145,[4016,631...|\n",
      "|  1.0|(262145,[976,2325...|\n",
      "|  1.0|(262145,[2325,306...|\n",
      "|  1.0|(262145,[1353,243...|\n",
      "|  1.0|(262145,[3763,759...|\n",
      "|  0.0|(262145,[1879,576...|\n",
      "|  0.0|(262145,[3091,988...|\n",
      "+-----+--------------------+\n",
      "only showing top 20 rows\n",
      "\n"
     ]
    }
   ],
   "source": [
    "#show cleaned data\n",
    "cleaned.select(['label', 'features']).show()\n"
   ]
  },
  {
   "cell_type": "code",
   "execution_count": 10,
   "metadata": {
    "collapsed": true
   },
   "outputs": [],
   "source": [
    "#break down data into training and testing set\n",
    "(training, testing) = cleaned.randomSplit([0.7, 0.3])"
   ]
  },
  {
   "cell_type": "code",
   "execution_count": 11,
   "metadata": {},
   "outputs": [],
   "source": [
    "#create Naive Bayes model and fit training data\n",
    "from pyspark.ml.classification import NaiveBayes\n",
    "\n",
    "nb = NaiveBayes(smoothing=1.0, modelType='multinomial')\n",
    "explicit_predictor = nb.fit(training)"
   ]
  },
  {
   "cell_type": "code",
   "execution_count": 12,
   "metadata": {
    "scrolled": true
   },
   "outputs": [
    {
     "name": "stdout",
     "output_type": "stream",
     "text": [
      "+----+--------+--------------------+-------------+------+-----+--------------------+--------------------+--------------------+--------------------+--------------------+--------------------+----------+\n",
      "| _c0|explicit|     body_text_clean|explicit text|length|label|        token_lyrics|         hash_lyrics|          idf_lyrics|            features|       rawPrediction|         probability|prediction|\n",
      "+----+--------+--------------------+-------------+------+-----+--------------------+--------------------+--------------------+--------------------+--------------------+--------------------+----------+\n",
      "|   0|       1|drake feel trap t...|          yes|   601|  1.0|[drake, feel, tra...|(262144,[1353,907...|(262144,[1353,907...|(262145,[1353,907...|[-3526.9459410295...|[1.53020773254419...|       1.0|\n",
      "|   1|       1|dj khale feat jus...|          yes|   872|  1.0|[dj, khale, feat,...|(262144,[2437,705...|(262144,[2437,705...|(262145,[2437,705...|[-6552.6312131449...|[2.86325470314075...|       1.0|\n",
      "| 100|       1|xxxtentacion moon...|          yes|   389|  1.0|[xxxtentacion, mo...|(262144,[23663,71...|(262144,[23663,71...|(262145,[23663,71...|[-2453.8376430552...|[7.24613201948572...|       1.0|\n",
      "|1000|       0|charli puth empti...|           no|   390|  0.0|[charli, puth, em...|(262144,[9942,212...|(262144,[9942,212...|(262145,[9942,212...|[-2109.4784803971...|[1.0,3.6875003984...|       0.0|\n",
      "|1002|       1|zac brown band to...|          yes|   432|  1.0|[zac, brown, band...|(262144,[3067,112...|(262144,[3067,112...|(262145,[3067,112...|[-2972.9916614550...|[1.0,2.3229253751...|       0.0|\n",
      "|1005|       0|zac brown band vi...|           no|   132|  0.0|[zac, brown, band...|(262144,[14118,30...|(262144,[14118,30...|(262145,[14118,30...|[-931.46882887323...|[0.01229977412604...|       1.0|\n",
      "|1006|       0|zac brown band fr...|           no|   239|  0.0|[zac, brown, band...|(262144,[4200,141...|(262144,[4200,141...|(262145,[4200,141...|[-1361.6401293676...|[1.0,2.8425847283...|       0.0|\n",
      "|1007|       0|zac brown band ma...|           no|   147|  0.0|[zac, brown, band...|(262144,[14118,24...|(262144,[14118,24...|(262145,[14118,24...|[-805.29520628569...|[1.0,4.8199617655...|       0.0|\n",
      "| 101|       0|abba danc queen d...|           no|   270|  0.0|[abba, danc, quee...|(262144,[9886,137...|(262144,[9886,137...|(262145,[9886,137...|[-1266.6232321781...|[1.0,4.0464606331...|       0.0|\n",
      "|1014|       1|zac brown band le...|          yes|   356|  1.0|[zac, brown, band...|(262144,[5232,690...|(262144,[5232,690...|(262145,[5232,690...|[-1959.6137807209...|[1.0,1.7252566691...|       0.0|\n",
      "|1016|       1|bruno mar chunki ...|          yes|   374|  1.0|[bruno, mar, chun...|(262144,[2325,306...|(262144,[2325,306...|(262145,[2325,306...|[-2250.8528778184...|[2.54422077289534...|       1.0|\n",
      "|1018|       1|bruno mar that li...|          yes|   433|  1.0|[bruno, mar, that...|(262144,[9988,137...|(262144,[9988,137...|(262145,[9988,137...|[-3269.1212481880...|[2.06554064638110...|       1.0|\n",
      "|1020|       1|bruno mar straigh...|          yes|   661|  1.0|[bruno, mar, stra...|(262144,[2325,844...|(262144,[2325,844...|(262145,[2325,844...|[-3361.5464889769...|[8.69762438208711...|       1.0|\n",
      "|1022|       1|bruno mar finess ...|          yes|   442|  1.0|[bruno, mar, fine...|(262144,[3091,247...|(262144,[3091,247...|(262145,[3091,247...|[-2555.9266768948...|[7.68526411156624...|       1.0|\n",
      "|1024|       1|disturb immort wa...|          yes|   374|  1.0|[disturb, immort,...|(262144,[6369,690...|(262144,[6369,690...|(262145,[6369,690...|[-2441.2652444149...|[1.0,4.0383349080...|       0.0|\n",
      "|1025|       0|disturb veng one ...|           no|   444|  0.0|[disturb, veng, o...|(262144,[6834,690...|(262144,[6834,690...|(262145,[6834,690...|[-3368.0696638762...|[1.0,2.0963415862...|       0.0|\n",
      "|1026|       0|disturb open eye ...|           no|   374|  0.0|[disturb, open, e...|(262144,[2081,690...|(262144,[2081,690...|(262145,[2081,690...|[-2560.9735571964...|[1.0,9.4311627500...|       0.0|\n",
      "|1028|       0|disturb wait wait...|           no|   302|  0.0|[disturb, wait, w...|(262144,[14385,17...|(262144,[14385,17...|(262145,[14385,17...|[-1534.3644236503...|[1.0,2.6248853209...|       0.0|\n",
      "|1038|       1|nicki minaj feat ...|          yes|   725|  1.0|[nicki, minaj, fe...|(262144,[6223,759...|(262144,[6223,759...|(262145,[6223,759...|[-6196.2464648592...|      [2.5E-323,1.0]|       1.0|\n",
      "|1044|       1|macklemor feat da...|          yes|   485|  1.0|[macklemor, feat,...|(262144,[1353,690...|(262144,[1353,690...|(262145,[1353,690...|[-3119.0587698936...|[1.0,2.7389674624...|       0.0|\n",
      "+----+--------+--------------------+-------------+------+-----+--------------------+--------------------+--------------------+--------------------+--------------------+--------------------+----------+\n",
      "only showing top 20 rows\n",
      "\n"
     ]
    }
   ],
   "source": [
    "#transform model with testing data\n",
    "test_results = explicit_predictor.transform(testing)\n",
    "test_results.show()"
   ]
  },
  {
   "cell_type": "code",
   "execution_count": 13,
   "metadata": {
    "collapsed": true
   },
   "outputs": [],
   "source": [
    "testing = testing.rdd"
   ]
  },
  {
   "cell_type": "code",
   "execution_count": 16,
   "metadata": {},
   "outputs": [
    {
     "name": "stdout",
     "output_type": "stream",
     "text": [
      "The accuracy of the model is: 0.8385518590998043\n",
      "The f1 of the model is: 0.8300037689058399\n",
      "The precision of the model is: 0.8394750421576185\n",
      "The recall of the model is: 0.8385518590998043\n"
     ]
    }
   ],
   "source": [
    "from pyspark.ml.evaluation import MulticlassClassificationEvaluator\n",
    "#from pyspark.mllib.evaluation import MultilabelMetrics\n",
    "\n",
    "acc_eval = MulticlassClassificationEvaluator(labelCol='label', predictionCol='prediction', metricName='accuracy')\n",
    "f1_eval = MulticlassClassificationEvaluator(labelCol='label', predictionCol='prediction', metricName='f1')\n",
    "precision_eval = MulticlassClassificationEvaluator(labelCol='label', predictionCol='prediction', metricName='weightedPrecision')\n",
    "recall_eval = MulticlassClassificationEvaluator(labelCol='label', predictionCol='prediction', metricName='weightedRecall')\n",
    "acc = acc_eval.evaluate(test_results)\n",
    "f1 = f1_eval.evaluate(test_results)\n",
    "precision = precision_eval.evaluate(test_results)\n",
    "recall = recall_eval.evaluate(test_results)\n",
    "\n",
    "\n",
    "print(f\"The accuracy of the model is: {acc}\")\n",
    "print(f\"The f1 of the model is: {f1}\")\n",
    "print(f\"The precision of the model is: {precision}\")\n",
    "print(f\"The recall of the model is: {recall}\")\n",
    "#print(f\"precision: {acc_}\")\n",
    "#print(f\"recall: {acc_recall}\")\n",
    "#print(f\"f1Score: {acc_f1}\")\n"
   ]
  },
  {
   "cell_type": "markdown",
   "metadata": {},
   "source": [
    "### Logistic Regression"
   ]
  },
  {
   "cell_type": "code",
   "execution_count": 19,
   "metadata": {
    "collapsed": true
   },
   "outputs": [],
   "source": []
  },
  {
   "cell_type": "code",
   "execution_count": 20,
   "metadata": {},
   "outputs": [
    {
     "name": "stdout",
     "output_type": "stream",
     "text": [
      "Coefficients: (262145,[],[])\n",
      "Intercept: (262145,[],[])\n"
     ]
    }
   ],
   "source": []
  },
  {
   "cell_type": "code",
   "execution_count": 26,
   "metadata": {},
   "outputs": [
    {
     "ename": "AttributeError",
     "evalue": "'BinaryLogisticRegressionTrainingSummary' object has no attribute 'r2'",
     "output_type": "error",
     "traceback": [
      "\u001b[0;31m---------------------------------------------------------------------------\u001b[0m",
      "\u001b[0;31mAttributeError\u001b[0m                            Traceback (most recent call last)",
      "\u001b[0;32m<ipython-input-26-9ced29360e3f>\u001b[0m in \u001b[0;36m<module>\u001b[0;34m()\u001b[0m\n\u001b[1;32m      1\u001b[0m \u001b[0;31m#model r2 value\u001b[0m\u001b[0;34m\u001b[0m\u001b[0;34m\u001b[0m\u001b[0m\n\u001b[1;32m      2\u001b[0m \u001b[0msummary\u001b[0m \u001b[0;34m=\u001b[0m \u001b[0mlrModel\u001b[0m\u001b[0;34m.\u001b[0m\u001b[0msummary\u001b[0m\u001b[0;34m\u001b[0m\u001b[0m\n\u001b[0;32m----> 3\u001b[0;31m \u001b[0mr2\u001b[0m \u001b[0;34m=\u001b[0m \u001b[0msummary\u001b[0m\u001b[0;34m.\u001b[0m\u001b[0mr2\u001b[0m\u001b[0;34m\u001b[0m\u001b[0m\n\u001b[0m\u001b[1;32m      4\u001b[0m \u001b[0mprint\u001b[0m\u001b[0;34m(\u001b[0m\u001b[0;34mf\"R2: {r2}\"\u001b[0m\u001b[0;34m)\u001b[0m\u001b[0;34m\u001b[0m\u001b[0m\n",
      "\u001b[0;31mAttributeError\u001b[0m: 'BinaryLogisticRegressionTrainingSummary' object has no attribute 'r2'"
     ]
    }
   ],
   "source": []
  },
  {
   "cell_type": "code",
   "execution_count": null,
   "metadata": {
    "collapsed": true
   },
   "outputs": [],
   "source": []
  }
 ],
 "metadata": {
  "kernelspec": {
   "display_name": "Python 3",
   "language": "python",
   "name": "python3"
  },
  "language_info": {
   "codemirror_mode": {
    "name": "ipython",
    "version": 3
   },
   "file_extension": ".py",
   "mimetype": "text/x-python",
   "name": "python",
   "nbconvert_exporter": "python",
   "pygments_lexer": "ipython3",
   "version": "3.6.3"
  }
 },
 "nbformat": 4,
 "nbformat_minor": 2
}
