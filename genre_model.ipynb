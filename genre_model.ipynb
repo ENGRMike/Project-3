{
 "cells": [
  {
   "cell_type": "code",
   "execution_count": 1,
   "metadata": {
    "collapsed": true
   },
   "outputs": [],
   "source": [
    "import pandas as pd\n",
    "import numpy as np\n",
    "\n",
    "\n",
    "import sqlalchemy\n",
    "from sqlalchemy import create_engine, inspect, Column, Integer, Float, String, Sequence, Boolean, text\n",
    "from sqlalchemy.orm import Session\n",
    "from sqlalchemy.ext.automap import automap_base\n",
    "from sqlalchemy.ext.declarative import declarative_base"
   ]
  },
  {
   "cell_type": "code",
   "execution_count": 2,
   "metadata": {
    "collapsed": true
   },
   "outputs": [],
   "source": [
    "#Using declarative base\n",
    "Base = declarative_base()\n",
    "engine = create_engine('sqlite:///lyrics3.db', echo = False)"
   ]
  },
  {
   "cell_type": "code",
   "execution_count": 3,
   "metadata": {
    "collapsed": true
   },
   "outputs": [],
   "source": [
    "#Creating the table metadata\n",
    "Base.metadata.create_all(engine)\n",
    "session = Session(engine)"
   ]
  },
  {
   "cell_type": "code",
   "execution_count": 4,
   "metadata": {
    "collapsed": true
   },
   "outputs": [],
   "source": [
    "#Binding engine to the metadata\n",
    "meta = sqlalchemy.MetaData()\n",
    "meta.reflect(bind = engine)"
   ]
  },
  {
   "cell_type": "code",
   "execution_count": 5,
   "metadata": {
    "collapsed": true
   },
   "outputs": [],
   "source": [
    "lyrics = pd.read_sql_table('lyrics', engine, index_col=\"id\", coerce_float=False)\n",
    "tracks = pd.read_sql_table('tracks', engine, index_col=\"id\", coerce_float=False)\n",
    "genre = pd.read_sql_table('genres', engine, index_col=\"id\", coerce_float=False)"
   ]
  },
  {
   "cell_type": "code",
   "execution_count": 6,
   "metadata": {},
   "outputs": [],
   "source": [
    "lyrics = lyrics[lyrics['lyrics_language']=='en']"
   ]
  },
  {
   "cell_type": "code",
   "execution_count": 7,
   "metadata": {},
   "outputs": [
    {
     "data": {
      "text/html": [
       "<div>\n",
       "<style>\n",
       "    .dataframe thead tr:only-child th {\n",
       "        text-align: right;\n",
       "    }\n",
       "\n",
       "    .dataframe thead th {\n",
       "        text-align: left;\n",
       "    }\n",
       "\n",
       "    .dataframe tbody tr th {\n",
       "        vertical-align: top;\n",
       "    }\n",
       "</style>\n",
       "<table border=\"1\" class=\"dataframe\">\n",
       "  <thead>\n",
       "    <tr style=\"text-align: right;\">\n",
       "      <th></th>\n",
       "      <th>album_id</th>\n",
       "      <th>album_name</th>\n",
       "      <th>artist</th>\n",
       "      <th>genre</th>\n",
       "    </tr>\n",
       "    <tr>\n",
       "      <th>id</th>\n",
       "      <th></th>\n",
       "      <th></th>\n",
       "      <th></th>\n",
       "      <th></th>\n",
       "    </tr>\n",
       "  </thead>\n",
       "  <tbody>\n",
       "    <tr>\n",
       "      <th>1</th>\n",
       "      <td>10266031</td>\n",
       "      <td>Big Willie Style</td>\n",
       "      <td>Will Smith</td>\n",
       "      <td>Rap</td>\n",
       "    </tr>\n",
       "    <tr>\n",
       "      <th>2</th>\n",
       "      <td>10266041</td>\n",
       "      <td>War</td>\n",
       "      <td>U2</td>\n",
       "      <td>Pop/Rock</td>\n",
       "    </tr>\n",
       "    <tr>\n",
       "      <th>3</th>\n",
       "      <td>10266127</td>\n",
       "      <td>Led Zeppelin</td>\n",
       "      <td>Led Zeppelin</td>\n",
       "      <td>Pop/Rock</td>\n",
       "    </tr>\n",
       "    <tr>\n",
       "      <th>4</th>\n",
       "      <td>10266180</td>\n",
       "      <td>Power Windows</td>\n",
       "      <td>Rush</td>\n",
       "      <td>Pop/Rock</td>\n",
       "    </tr>\n",
       "    <tr>\n",
       "      <th>5</th>\n",
       "      <td>10266202</td>\n",
       "      <td>Willennium</td>\n",
       "      <td>Will Smith</td>\n",
       "      <td>Rap</td>\n",
       "    </tr>\n",
       "  </tbody>\n",
       "</table>\n",
       "</div>"
      ],
      "text/plain": [
       "    album_id        album_name        artist     genre\n",
       "id                                                    \n",
       "1   10266031  Big Willie Style    Will Smith       Rap\n",
       "2   10266041               War            U2  Pop/Rock\n",
       "3   10266127      Led Zeppelin  Led Zeppelin  Pop/Rock\n",
       "4   10266180     Power Windows          Rush  Pop/Rock\n",
       "5   10266202        Willennium    Will Smith       Rap"
      ]
     },
     "execution_count": 7,
     "metadata": {},
     "output_type": "execute_result"
    }
   ],
   "source": [
    "genre['album_id']=genre['album_id'].astype(int)\n",
    "genre.head()"
   ]
  },
  {
   "cell_type": "code",
   "execution_count": 8,
   "metadata": {},
   "outputs": [
    {
     "data": {
      "text/html": [
       "<div>\n",
       "<style>\n",
       "    .dataframe thead tr:only-child th {\n",
       "        text-align: right;\n",
       "    }\n",
       "\n",
       "    .dataframe thead th {\n",
       "        text-align: left;\n",
       "    }\n",
       "\n",
       "    .dataframe tbody tr th {\n",
       "        vertical-align: top;\n",
       "    }\n",
       "</style>\n",
       "<table border=\"1\" class=\"dataframe\">\n",
       "  <thead>\n",
       "    <tr style=\"text-align: right;\">\n",
       "      <th></th>\n",
       "      <th>album_id</th>\n",
       "      <th>artist_id</th>\n",
       "      <th>artist_name</th>\n",
       "      <th>explicit_x</th>\n",
       "      <th>has_lyrics</th>\n",
       "      <th>lyrics_id</th>\n",
       "      <th>track_id</th>\n",
       "      <th>track_name</th>\n",
       "      <th>explicit_y</th>\n",
       "      <th>lyrics_body</th>\n",
       "      <th>lyrics_language</th>\n",
       "      <th>lyrics_language_description</th>\n",
       "    </tr>\n",
       "  </thead>\n",
       "  <tbody>\n",
       "    <tr>\n",
       "      <th>0</th>\n",
       "      <td>29219288</td>\n",
       "      <td>33491453</td>\n",
       "      <td>Drake</td>\n",
       "      <td>1</td>\n",
       "      <td>1</td>\n",
       "      <td>18083442</td>\n",
       "      <td>152383631</td>\n",
       "      <td>In My Feelings</td>\n",
       "      <td>1</td>\n",
       "      <td>Trap, TrapMoneyBenny\\nThis shit got me in my f...</td>\n",
       "      <td>en</td>\n",
       "      <td>English</td>\n",
       "    </tr>\n",
       "    <tr>\n",
       "      <th>1</th>\n",
       "      <td>29504205</td>\n",
       "      <td>36425860</td>\n",
       "      <td>DJ Khaled feat. Justin Bieber, Quavo &amp; Chance ...</td>\n",
       "      <td>1</td>\n",
       "      <td>1</td>\n",
       "      <td>18105233</td>\n",
       "      <td>154318893</td>\n",
       "      <td>No Brainer</td>\n",
       "      <td>1</td>\n",
       "      <td>We the Best Music!\\nAnother one!\\nDJ Khaled!\\n...</td>\n",
       "      <td>en</td>\n",
       "      <td>English</td>\n",
       "    </tr>\n",
       "    <tr>\n",
       "      <th>2</th>\n",
       "      <td>29005911</td>\n",
       "      <td>36070710</td>\n",
       "      <td>Maroon 5 feat. Cardi B</td>\n",
       "      <td>1</td>\n",
       "      <td>1</td>\n",
       "      <td>18066274</td>\n",
       "      <td>150959640</td>\n",
       "      <td>Girls Like You</td>\n",
       "      <td>1</td>\n",
       "      <td>Spent twenty-four hours, I need more hours wit...</td>\n",
       "      <td>en</td>\n",
       "      <td>English</td>\n",
       "    </tr>\n",
       "    <tr>\n",
       "      <th>3</th>\n",
       "      <td>29211432</td>\n",
       "      <td>36070710</td>\n",
       "      <td>Maroon 5 feat. Cardi B</td>\n",
       "      <td>1</td>\n",
       "      <td>1</td>\n",
       "      <td>18066274</td>\n",
       "      <td>152271189</td>\n",
       "      <td>Girls Like You</td>\n",
       "      <td>1</td>\n",
       "      <td>Spent twenty-four hours, I need more hours wit...</td>\n",
       "      <td>en</td>\n",
       "      <td>English</td>\n",
       "    </tr>\n",
       "    <tr>\n",
       "      <th>4</th>\n",
       "      <td>28578797</td>\n",
       "      <td>35716462</td>\n",
       "      <td>Cardi B feat. Bad Bunny &amp; J Balvin</td>\n",
       "      <td>1</td>\n",
       "      <td>1</td>\n",
       "      <td>17942796</td>\n",
       "      <td>148363403</td>\n",
       "      <td>I Like It</td>\n",
       "      <td>1</td>\n",
       "      <td>Yeah baby, I like it like that\\nYou gotta beli...</td>\n",
       "      <td>en</td>\n",
       "      <td>English</td>\n",
       "    </tr>\n",
       "  </tbody>\n",
       "</table>\n",
       "</div>"
      ],
      "text/plain": [
       "   album_id  artist_id                                        artist_name  \\\n",
       "0  29219288   33491453                                              Drake   \n",
       "1  29504205   36425860  DJ Khaled feat. Justin Bieber, Quavo & Chance ...   \n",
       "2  29005911   36070710                             Maroon 5 feat. Cardi B   \n",
       "3  29211432   36070710                             Maroon 5 feat. Cardi B   \n",
       "4  28578797   35716462                 Cardi B feat. Bad Bunny & J Balvin   \n",
       "\n",
       "   explicit_x  has_lyrics  lyrics_id   track_id      track_name  explicit_y  \\\n",
       "0           1           1   18083442  152383631  In My Feelings           1   \n",
       "1           1           1   18105233  154318893      No Brainer           1   \n",
       "2           1           1   18066274  150959640  Girls Like You           1   \n",
       "3           1           1   18066274  152271189  Girls Like You           1   \n",
       "4           1           1   17942796  148363403       I Like It           1   \n",
       "\n",
       "                                         lyrics_body lyrics_language  \\\n",
       "0  Trap, TrapMoneyBenny\\nThis shit got me in my f...              en   \n",
       "1  We the Best Music!\\nAnother one!\\nDJ Khaled!\\n...              en   \n",
       "2  Spent twenty-four hours, I need more hours wit...              en   \n",
       "3  Spent twenty-four hours, I need more hours wit...              en   \n",
       "4  Yeah baby, I like it like that\\nYou gotta beli...              en   \n",
       "\n",
       "  lyrics_language_description  \n",
       "0                     English  \n",
       "1                     English  \n",
       "2                     English  \n",
       "3                     English  \n",
       "4                     English  "
      ]
     },
     "execution_count": 8,
     "metadata": {},
     "output_type": "execute_result"
    }
   ],
   "source": [
    "lyrics_tracks = pd.merge(tracks, lyrics, on=\"lyrics_id\")\n",
    "lyrics_tracks.head()"
   ]
  },
  {
   "cell_type": "code",
   "execution_count": 9,
   "metadata": {
    "collapsed": true
   },
   "outputs": [],
   "source": [
    "data = pd.merge(lyrics_tracks, genre, on=\"album_id\")"
   ]
  },
  {
   "cell_type": "code",
   "execution_count": 10,
   "metadata": {},
   "outputs": [],
   "source": [
    "data = data.sample(2000)"
   ]
  },
  {
   "cell_type": "code",
   "execution_count": 11,
   "metadata": {
    "collapsed": true
   },
   "outputs": [],
   "source": [
    "lyrics_genre = data[['artist_name','album_name','track_name','lyrics_body','genre']]"
   ]
  },
  {
   "cell_type": "code",
   "execution_count": 12,
   "metadata": {},
   "outputs": [
    {
     "name": "stderr",
     "output_type": "stream",
     "text": [
      "C:\\Users\\micha\\Anaconda3\\lib\\site-packages\\ipykernel_launcher.py:1: SettingWithCopyWarning: \n",
      "A value is trying to be set on a copy of a slice from a DataFrame.\n",
      "Try using .loc[row_indexer,col_indexer] = value instead\n",
      "\n",
      "See the caveats in the documentation: http://pandas.pydata.org/pandas-docs/stable/indexing.html#indexing-view-versus-copy\n",
      "  \"\"\"Entry point for launching an IPython kernel.\n"
     ]
    }
   ],
   "source": [
    "lyrics_genre['combined_text']= lyrics_genre['artist_name']+ \" \" + lyrics_genre['album_name']+\" \" + lyrics_genre['track_name']+\" \" + lyrics_genre['lyrics_body']"
   ]
  },
  {
   "cell_type": "code",
   "execution_count": 13,
   "metadata": {},
   "outputs": [
    {
     "data": {
      "text/html": [
       "<div>\n",
       "<style>\n",
       "    .dataframe thead tr:only-child th {\n",
       "        text-align: right;\n",
       "    }\n",
       "\n",
       "    .dataframe thead th {\n",
       "        text-align: left;\n",
       "    }\n",
       "\n",
       "    .dataframe tbody tr th {\n",
       "        vertical-align: top;\n",
       "    }\n",
       "</style>\n",
       "<table border=\"1\" class=\"dataframe\">\n",
       "  <thead>\n",
       "    <tr style=\"text-align: right;\">\n",
       "      <th></th>\n",
       "      <th>artist_name</th>\n",
       "      <th>album_name</th>\n",
       "      <th>track_name</th>\n",
       "      <th>lyrics_body</th>\n",
       "      <th>genre</th>\n",
       "      <th>combined_text</th>\n",
       "    </tr>\n",
       "  </thead>\n",
       "  <tbody>\n",
       "    <tr>\n",
       "      <th>5463</th>\n",
       "      <td>Eagles</td>\n",
       "      <td>Live Broadcast 6th November 1976 the Summit</td>\n",
       "      <td>Midnight Flyer (Live Broadcast 1976)</td>\n",
       "      <td>Oo, Midnight Flyer\\nEngineer, won't you let yo...</td>\n",
       "      <td>Pop/Rock</td>\n",
       "      <td>Eagles Live Broadcast 6th November 1976 the Su...</td>\n",
       "    </tr>\n",
       "    <tr>\n",
       "      <th>3637</th>\n",
       "      <td>Jennifer Rush</td>\n",
       "      <td>The Power Of Love - The Best Of...</td>\n",
       "      <td>Down To You</td>\n",
       "      <td>Tonight is the night\\nSilence has taken it's t...</td>\n",
       "      <td>Pop/Rock</td>\n",
       "      <td>Jennifer Rush The Power Of Love - The Best Of....</td>\n",
       "    </tr>\n",
       "    <tr>\n",
       "      <th>106</th>\n",
       "      <td>5 Seconds of Summer</td>\n",
       "      <td>Youngblood (Deluxe)</td>\n",
       "      <td>Meet You There</td>\n",
       "      <td>Lo-lo-lo-lo-lo-lo-love\\n\\nEvery moment spent, ...</td>\n",
       "      <td>Pop/Rock</td>\n",
       "      <td>5 Seconds of Summer Youngblood (Deluxe) Meet Y...</td>\n",
       "    </tr>\n",
       "    <tr>\n",
       "      <th>1058</th>\n",
       "      <td>Scotty McCreery</td>\n",
       "      <td>Seasons Change</td>\n",
       "      <td>Home In My Mind</td>\n",
       "      <td>Well I'm a thousand miles away\\nAnd it feels l...</td>\n",
       "      <td>Country</td>\n",
       "      <td>Scotty McCreery Seasons Change Home In My Mind...</td>\n",
       "    </tr>\n",
       "    <tr>\n",
       "      <th>7419</th>\n",
       "      <td>Bonnie \"Prince\" Billy</td>\n",
       "      <td>Singer's Grave - A Sea of Tongues</td>\n",
       "      <td>There Will Be Spring</td>\n",
       "      <td>There will be spring to the very end,\\nI'll sl...</td>\n",
       "      <td>Other</td>\n",
       "      <td>Bonnie \"Prince\" Billy Singer's Grave - A Sea o...</td>\n",
       "    </tr>\n",
       "  </tbody>\n",
       "</table>\n",
       "</div>"
      ],
      "text/plain": [
       "                artist_name                                   album_name  \\\n",
       "5463                 Eagles  Live Broadcast 6th November 1976 the Summit   \n",
       "3637          Jennifer Rush           The Power Of Love - The Best Of...   \n",
       "106     5 Seconds of Summer                          Youngblood (Deluxe)   \n",
       "1058        Scotty McCreery                               Seasons Change   \n",
       "7419  Bonnie \"Prince\" Billy            Singer's Grave - A Sea of Tongues   \n",
       "\n",
       "                                track_name  \\\n",
       "5463  Midnight Flyer (Live Broadcast 1976)   \n",
       "3637                           Down To You   \n",
       "106                         Meet You There   \n",
       "1058                       Home In My Mind   \n",
       "7419                  There Will Be Spring   \n",
       "\n",
       "                                            lyrics_body     genre  \\\n",
       "5463  Oo, Midnight Flyer\\nEngineer, won't you let yo...  Pop/Rock   \n",
       "3637  Tonight is the night\\nSilence has taken it's t...  Pop/Rock   \n",
       "106   Lo-lo-lo-lo-lo-lo-love\\n\\nEvery moment spent, ...  Pop/Rock   \n",
       "1058  Well I'm a thousand miles away\\nAnd it feels l...   Country   \n",
       "7419  There will be spring to the very end,\\nI'll sl...     Other   \n",
       "\n",
       "                                          combined_text  \n",
       "5463  Eagles Live Broadcast 6th November 1976 the Su...  \n",
       "3637  Jennifer Rush The Power Of Love - The Best Of....  \n",
       "106   5 Seconds of Summer Youngblood (Deluxe) Meet Y...  \n",
       "1058  Scotty McCreery Seasons Change Home In My Mind...  \n",
       "7419  Bonnie \"Prince\" Billy Singer's Grave - A Sea o...  "
      ]
     },
     "execution_count": 13,
     "metadata": {},
     "output_type": "execute_result"
    }
   ],
   "source": [
    "lyrics_genre.head()"
   ]
  },
  {
   "cell_type": "code",
   "execution_count": 14,
   "metadata": {},
   "outputs": [
    {
     "name": "stderr",
     "output_type": "stream",
     "text": [
      "C:\\Users\\micha\\Anaconda3\\lib\\site-packages\\ipykernel_launcher.py:1: SettingWithCopyWarning: \n",
      "A value is trying to be set on a copy of a slice from a DataFrame\n",
      "\n",
      "See the caveats in the documentation: http://pandas.pydata.org/pandas-docs/stable/indexing.html#indexing-view-versus-copy\n",
      "  \"\"\"Entry point for launching an IPython kernel.\n"
     ]
    }
   ],
   "source": [
    "lyrics_genre.drop(labels=['artist_name','album_name','track_name','lyrics_body'], axis=1, inplace=True)"
   ]
  },
  {
   "cell_type": "code",
   "execution_count": 15,
   "metadata": {},
   "outputs": [
    {
     "data": {
      "text/html": [
       "<div>\n",
       "<style>\n",
       "    .dataframe thead tr:only-child th {\n",
       "        text-align: right;\n",
       "    }\n",
       "\n",
       "    .dataframe thead th {\n",
       "        text-align: left;\n",
       "    }\n",
       "\n",
       "    .dataframe tbody tr th {\n",
       "        vertical-align: top;\n",
       "    }\n",
       "</style>\n",
       "<table border=\"1\" class=\"dataframe\">\n",
       "  <thead>\n",
       "    <tr style=\"text-align: right;\">\n",
       "      <th></th>\n",
       "      <th>genre</th>\n",
       "      <th>combined_text</th>\n",
       "    </tr>\n",
       "  </thead>\n",
       "  <tbody>\n",
       "    <tr>\n",
       "      <th>5463</th>\n",
       "      <td>Pop/Rock</td>\n",
       "      <td>Eagles Live Broadcast 6th November 1976 the Su...</td>\n",
       "    </tr>\n",
       "    <tr>\n",
       "      <th>3637</th>\n",
       "      <td>Pop/Rock</td>\n",
       "      <td>Jennifer Rush The Power Of Love - The Best Of....</td>\n",
       "    </tr>\n",
       "    <tr>\n",
       "      <th>106</th>\n",
       "      <td>Pop/Rock</td>\n",
       "      <td>5 Seconds of Summer Youngblood (Deluxe) Meet Y...</td>\n",
       "    </tr>\n",
       "    <tr>\n",
       "      <th>1058</th>\n",
       "      <td>Country</td>\n",
       "      <td>Scotty McCreery Seasons Change Home In My Mind...</td>\n",
       "    </tr>\n",
       "    <tr>\n",
       "      <th>7419</th>\n",
       "      <td>Other</td>\n",
       "      <td>Bonnie \"Prince\" Billy Singer's Grave - A Sea o...</td>\n",
       "    </tr>\n",
       "  </tbody>\n",
       "</table>\n",
       "</div>"
      ],
      "text/plain": [
       "         genre                                      combined_text\n",
       "5463  Pop/Rock  Eagles Live Broadcast 6th November 1976 the Su...\n",
       "3637  Pop/Rock  Jennifer Rush The Power Of Love - The Best Of....\n",
       "106   Pop/Rock  5 Seconds of Summer Youngblood (Deluxe) Meet Y...\n",
       "1058   Country  Scotty McCreery Seasons Change Home In My Mind...\n",
       "7419     Other  Bonnie \"Prince\" Billy Singer's Grave - A Sea o..."
      ]
     },
     "execution_count": 15,
     "metadata": {},
     "output_type": "execute_result"
    }
   ],
   "source": [
    "lyrics_genre.head()"
   ]
  },
  {
   "cell_type": "code",
   "execution_count": 16,
   "metadata": {
    "collapsed": true
   },
   "outputs": [],
   "source": [
    "def isEnglish(s):\n",
    "    try:\n",
    "        s.encode(encoding='utf-8').decode('ascii')\n",
    "    except UnicodeDecodeError:\n",
    "        return False\n",
    "    else:\n",
    "        return True"
   ]
  },
  {
   "cell_type": "code",
   "execution_count": 17,
   "metadata": {},
   "outputs": [
    {
     "name": "stderr",
     "output_type": "stream",
     "text": [
      "C:\\Users\\micha\\Anaconda3\\lib\\site-packages\\ipykernel_launcher.py:1: SettingWithCopyWarning: \n",
      "A value is trying to be set on a copy of a slice from a DataFrame\n",
      "\n",
      "See the caveats in the documentation: http://pandas.pydata.org/pandas-docs/stable/indexing.html#indexing-view-versus-copy\n",
      "  \"\"\"Entry point for launching an IPython kernel.\n",
      "C:\\Users\\micha\\Anaconda3\\lib\\site-packages\\ipykernel_launcher.py:2: SettingWithCopyWarning: \n",
      "A value is trying to be set on a copy of a slice from a DataFrame.\n",
      "Try using .loc[row_indexer,col_indexer] = value instead\n",
      "\n",
      "See the caveats in the documentation: http://pandas.pydata.org/pandas-docs/stable/indexing.html#indexing-view-versus-copy\n",
      "  \n"
     ]
    },
    {
     "data": {
      "text/html": [
       "<div>\n",
       "<style>\n",
       "    .dataframe thead tr:only-child th {\n",
       "        text-align: right;\n",
       "    }\n",
       "\n",
       "    .dataframe thead th {\n",
       "        text-align: left;\n",
       "    }\n",
       "\n",
       "    .dataframe tbody tr th {\n",
       "        vertical-align: top;\n",
       "    }\n",
       "</style>\n",
       "<table border=\"1\" class=\"dataframe\">\n",
       "  <thead>\n",
       "    <tr style=\"text-align: right;\">\n",
       "      <th></th>\n",
       "      <th>genre</th>\n",
       "      <th>combined_text</th>\n",
       "      <th>is_english</th>\n",
       "    </tr>\n",
       "  </thead>\n",
       "  <tbody>\n",
       "    <tr>\n",
       "      <th>5463</th>\n",
       "      <td>Pop/Rock</td>\n",
       "      <td>Eagles Live Broadcast 6th November 1976 the Su...</td>\n",
       "      <td>True</td>\n",
       "    </tr>\n",
       "    <tr>\n",
       "      <th>3637</th>\n",
       "      <td>Pop/Rock</td>\n",
       "      <td>Jennifer Rush The Power Of Love - The Best Of....</td>\n",
       "      <td>True</td>\n",
       "    </tr>\n",
       "    <tr>\n",
       "      <th>106</th>\n",
       "      <td>Pop/Rock</td>\n",
       "      <td>5 Seconds of Summer Youngblood (Deluxe) Meet Y...</td>\n",
       "      <td>True</td>\n",
       "    </tr>\n",
       "    <tr>\n",
       "      <th>1058</th>\n",
       "      <td>Country</td>\n",
       "      <td>Scotty McCreery Seasons Change Home In My Mind...</td>\n",
       "      <td>True</td>\n",
       "    </tr>\n",
       "    <tr>\n",
       "      <th>7419</th>\n",
       "      <td>Other</td>\n",
       "      <td>Bonnie \"Prince\" Billy Singer's Grave - A Sea o...</td>\n",
       "      <td>True</td>\n",
       "    </tr>\n",
       "  </tbody>\n",
       "</table>\n",
       "</div>"
      ],
      "text/plain": [
       "         genre                                      combined_text  is_english\n",
       "5463  Pop/Rock  Eagles Live Broadcast 6th November 1976 the Su...        True\n",
       "3637  Pop/Rock  Jennifer Rush The Power Of Love - The Best Of....        True\n",
       "106   Pop/Rock  5 Seconds of Summer Youngblood (Deluxe) Meet Y...        True\n",
       "1058   Country  Scotty McCreery Seasons Change Home In My Mind...        True\n",
       "7419     Other  Bonnie \"Prince\" Billy Singer's Grave - A Sea o...        True"
      ]
     },
     "execution_count": 17,
     "metadata": {},
     "output_type": "execute_result"
    }
   ],
   "source": [
    "lyrics_genre.dropna(inplace=True)\n",
    "lyrics_genre['is_english'] = lyrics_genre['combined_text'].apply(lambda x: isEnglish(x))\n",
    "lyrics_genre.head()"
   ]
  },
  {
   "cell_type": "code",
   "execution_count": 18,
   "metadata": {},
   "outputs": [],
   "source": [
    "lyrics_genre = lyrics_genre[lyrics_genre['is_english']==True]"
   ]
  },
  {
   "cell_type": "code",
   "execution_count": 19,
   "metadata": {},
   "outputs": [
    {
     "data": {
      "text/html": [
       "<div>\n",
       "<style>\n",
       "    .dataframe thead tr:only-child th {\n",
       "        text-align: right;\n",
       "    }\n",
       "\n",
       "    .dataframe thead th {\n",
       "        text-align: left;\n",
       "    }\n",
       "\n",
       "    .dataframe tbody tr th {\n",
       "        vertical-align: top;\n",
       "    }\n",
       "</style>\n",
       "<table border=\"1\" class=\"dataframe\">\n",
       "  <thead>\n",
       "    <tr style=\"text-align: right;\">\n",
       "      <th></th>\n",
       "      <th>genre</th>\n",
       "      <th>combined_text</th>\n",
       "    </tr>\n",
       "  </thead>\n",
       "  <tbody>\n",
       "    <tr>\n",
       "      <th>5463</th>\n",
       "      <td>Pop/Rock</td>\n",
       "      <td>Eagles Live Broadcast 6th November 1976 the Su...</td>\n",
       "    </tr>\n",
       "    <tr>\n",
       "      <th>3637</th>\n",
       "      <td>Pop/Rock</td>\n",
       "      <td>Jennifer Rush The Power Of Love - The Best Of....</td>\n",
       "    </tr>\n",
       "    <tr>\n",
       "      <th>106</th>\n",
       "      <td>Pop/Rock</td>\n",
       "      <td>5 Seconds of Summer Youngblood (Deluxe) Meet Y...</td>\n",
       "    </tr>\n",
       "    <tr>\n",
       "      <th>1058</th>\n",
       "      <td>Country</td>\n",
       "      <td>Scotty McCreery Seasons Change Home In My Mind...</td>\n",
       "    </tr>\n",
       "    <tr>\n",
       "      <th>7419</th>\n",
       "      <td>Other</td>\n",
       "      <td>Bonnie \"Prince\" Billy Singer's Grave - A Sea o...</td>\n",
       "    </tr>\n",
       "  </tbody>\n",
       "</table>\n",
       "</div>"
      ],
      "text/plain": [
       "         genre                                      combined_text\n",
       "5463  Pop/Rock  Eagles Live Broadcast 6th November 1976 the Su...\n",
       "3637  Pop/Rock  Jennifer Rush The Power Of Love - The Best Of....\n",
       "106   Pop/Rock  5 Seconds of Summer Youngblood (Deluxe) Meet Y...\n",
       "1058   Country  Scotty McCreery Seasons Change Home In My Mind...\n",
       "7419     Other  Bonnie \"Prince\" Billy Singer's Grave - A Sea o..."
      ]
     },
     "execution_count": 19,
     "metadata": {},
     "output_type": "execute_result"
    }
   ],
   "source": [
    "#lyrics_genre['is_english'].value_counts()\n",
    "lyrics_genre.drop('is_english',axis=1, inplace=True)\n",
    "lyrics_genre.head()"
   ]
  },
  {
   "cell_type": "code",
   "execution_count": 20,
   "metadata": {
    "collapsed": true
   },
   "outputs": [],
   "source": [
    "#dependencies\n",
    "from nltk.corpus import stopwords\n",
    "from nltk import WordNetLemmatizer, PorterStemmer\n",
    "import nltk\n",
    "import string\n",
    "import re\n",
    "from sklearn.feature_extraction.text import CountVectorizer"
   ]
  },
  {
   "cell_type": "code",
   "execution_count": 21,
   "metadata": {
    "collapsed": true
   },
   "outputs": [],
   "source": [
    "# defining the stopwords\n",
    "stopword = stopwords.words('english')\n",
    "\n",
    "#instantiating lemmatization and stemming objects\n",
    "wn = WordNetLemmatizer()\n",
    "ps = PorterStemmer()"
   ]
  },
  {
   "cell_type": "code",
   "execution_count": 22,
   "metadata": {
    "collapsed": true
   },
   "outputs": [],
   "source": [
    "def clean_text(text):\n",
    "    '''\n",
    "    Function accepts a text input and does three things:\n",
    "    1. Removes punctuation\n",
    "    2. Splits into tokens\n",
    "    3. Removes tokens that are stopwords, conducts stemming, and joins together into a single string\n",
    "    '''\n",
    "    text = \"\".join([word.lower() for word in text if word not in string.punctuation])\n",
    "    tokens = re.split('\\W+', text)\n",
    "    text = \" \".join([ps.stem(word) for word in tokens if word not in stopword])\n",
    "    return text"
   ]
  },
  {
   "cell_type": "code",
   "execution_count": 23,
   "metadata": {},
   "outputs": [],
   "source": [
    "#cleans text using clean_text() function\n",
    "lyrics_genre['body_text_clean'] = lyrics_genre['combined_text'].apply(lambda x: clean_text(x))"
   ]
  },
  {
   "cell_type": "code",
   "execution_count": 24,
   "metadata": {
    "collapsed": true
   },
   "outputs": [],
   "source": [
    "ngram_vect = CountVectorizer(ngram_range=(1,2))"
   ]
  },
  {
   "cell_type": "code",
   "execution_count": 25,
   "metadata": {
    "collapsed": true
   },
   "outputs": [],
   "source": [
    "X_counts = ngram_vect.fit_transform(lyrics_genre['body_text_clean'])"
   ]
  },
  {
   "cell_type": "code",
   "execution_count": 26,
   "metadata": {},
   "outputs": [
    {
     "name": "stdout",
     "output_type": "stream",
     "text": [
      "(1798, 67512)\n"
     ]
    }
   ],
   "source": [
    "print(X_counts.shape)"
   ]
  },
  {
   "cell_type": "code",
   "execution_count": 27,
   "metadata": {
    "collapsed": true
   },
   "outputs": [],
   "source": [
    "X_counts_df = pd.DataFrame(X_counts.toarray())\n",
    "X_counts_df.columns = ngram_vect.get_feature_names()"
   ]
  },
  {
   "cell_type": "code",
   "execution_count": 28,
   "metadata": {},
   "outputs": [
    {
     "data": {
      "text/html": [
       "<div>\n",
       "<style>\n",
       "    .dataframe thead tr:only-child th {\n",
       "        text-align: right;\n",
       "    }\n",
       "\n",
       "    .dataframe thead th {\n",
       "        text-align: left;\n",
       "    }\n",
       "\n",
       "    .dataframe tbody tr th {\n",
       "        vertical-align: top;\n",
       "    }\n",
       "</style>\n",
       "<table border=\"1\" class=\"dataframe\">\n",
       "  <thead>\n",
       "    <tr style=\"text-align: right;\">\n",
       "      <th></th>\n",
       "      <th>007</th>\n",
       "      <th>007 im</th>\n",
       "      <th>03</th>\n",
       "      <th>03 stand</th>\n",
       "      <th>0f</th>\n",
       "      <th>0f lyric</th>\n",
       "      <th>10</th>\n",
       "      <th>10 buy</th>\n",
       "      <th>10 command</th>\n",
       "      <th>10 oclock</th>\n",
       "      <th>...</th>\n",
       "      <th>zone panic</th>\n",
       "      <th>zone peopl</th>\n",
       "      <th>zone pleasant</th>\n",
       "      <th>zone that</th>\n",
       "      <th>zoo</th>\n",
       "      <th>zoo station</th>\n",
       "      <th>zoom</th>\n",
       "      <th>zoom impend</th>\n",
       "      <th>zs</th>\n",
       "      <th>zs rock</th>\n",
       "    </tr>\n",
       "  </thead>\n",
       "  <tbody>\n",
       "    <tr>\n",
       "      <th>0</th>\n",
       "      <td>0</td>\n",
       "      <td>0</td>\n",
       "      <td>0</td>\n",
       "      <td>0</td>\n",
       "      <td>0</td>\n",
       "      <td>0</td>\n",
       "      <td>0</td>\n",
       "      <td>0</td>\n",
       "      <td>0</td>\n",
       "      <td>0</td>\n",
       "      <td>...</td>\n",
       "      <td>0</td>\n",
       "      <td>0</td>\n",
       "      <td>0</td>\n",
       "      <td>0</td>\n",
       "      <td>0</td>\n",
       "      <td>0</td>\n",
       "      <td>0</td>\n",
       "      <td>0</td>\n",
       "      <td>0</td>\n",
       "      <td>0</td>\n",
       "    </tr>\n",
       "    <tr>\n",
       "      <th>1</th>\n",
       "      <td>0</td>\n",
       "      <td>0</td>\n",
       "      <td>0</td>\n",
       "      <td>0</td>\n",
       "      <td>0</td>\n",
       "      <td>0</td>\n",
       "      <td>0</td>\n",
       "      <td>0</td>\n",
       "      <td>0</td>\n",
       "      <td>0</td>\n",
       "      <td>...</td>\n",
       "      <td>0</td>\n",
       "      <td>0</td>\n",
       "      <td>0</td>\n",
       "      <td>0</td>\n",
       "      <td>0</td>\n",
       "      <td>0</td>\n",
       "      <td>0</td>\n",
       "      <td>0</td>\n",
       "      <td>0</td>\n",
       "      <td>0</td>\n",
       "    </tr>\n",
       "    <tr>\n",
       "      <th>2</th>\n",
       "      <td>0</td>\n",
       "      <td>0</td>\n",
       "      <td>0</td>\n",
       "      <td>0</td>\n",
       "      <td>0</td>\n",
       "      <td>0</td>\n",
       "      <td>0</td>\n",
       "      <td>0</td>\n",
       "      <td>0</td>\n",
       "      <td>0</td>\n",
       "      <td>...</td>\n",
       "      <td>0</td>\n",
       "      <td>0</td>\n",
       "      <td>0</td>\n",
       "      <td>0</td>\n",
       "      <td>0</td>\n",
       "      <td>0</td>\n",
       "      <td>0</td>\n",
       "      <td>0</td>\n",
       "      <td>0</td>\n",
       "      <td>0</td>\n",
       "    </tr>\n",
       "    <tr>\n",
       "      <th>3</th>\n",
       "      <td>0</td>\n",
       "      <td>0</td>\n",
       "      <td>0</td>\n",
       "      <td>0</td>\n",
       "      <td>0</td>\n",
       "      <td>0</td>\n",
       "      <td>0</td>\n",
       "      <td>0</td>\n",
       "      <td>0</td>\n",
       "      <td>0</td>\n",
       "      <td>...</td>\n",
       "      <td>0</td>\n",
       "      <td>0</td>\n",
       "      <td>0</td>\n",
       "      <td>0</td>\n",
       "      <td>0</td>\n",
       "      <td>0</td>\n",
       "      <td>0</td>\n",
       "      <td>0</td>\n",
       "      <td>0</td>\n",
       "      <td>0</td>\n",
       "    </tr>\n",
       "    <tr>\n",
       "      <th>4</th>\n",
       "      <td>0</td>\n",
       "      <td>0</td>\n",
       "      <td>0</td>\n",
       "      <td>0</td>\n",
       "      <td>0</td>\n",
       "      <td>0</td>\n",
       "      <td>0</td>\n",
       "      <td>0</td>\n",
       "      <td>0</td>\n",
       "      <td>0</td>\n",
       "      <td>...</td>\n",
       "      <td>0</td>\n",
       "      <td>0</td>\n",
       "      <td>0</td>\n",
       "      <td>0</td>\n",
       "      <td>0</td>\n",
       "      <td>0</td>\n",
       "      <td>0</td>\n",
       "      <td>0</td>\n",
       "      <td>0</td>\n",
       "      <td>0</td>\n",
       "    </tr>\n",
       "  </tbody>\n",
       "</table>\n",
       "<p>5 rows × 67512 columns</p>\n",
       "</div>"
      ],
      "text/plain": [
       "   007  007 im  03  03 stand  0f  0f lyric  10  10 buy  10 command  10 oclock  \\\n",
       "0    0       0   0         0   0         0   0       0           0          0   \n",
       "1    0       0   0         0   0         0   0       0           0          0   \n",
       "2    0       0   0         0   0         0   0       0           0          0   \n",
       "3    0       0   0         0   0         0   0       0           0          0   \n",
       "4    0       0   0         0   0         0   0       0           0          0   \n",
       "\n",
       "    ...     zone panic  zone peopl  zone pleasant  zone that  zoo  \\\n",
       "0   ...              0           0              0          0    0   \n",
       "1   ...              0           0              0          0    0   \n",
       "2   ...              0           0              0          0    0   \n",
       "3   ...              0           0              0          0    0   \n",
       "4   ...              0           0              0          0    0   \n",
       "\n",
       "   zoo station  zoom  zoom impend  zs  zs rock  \n",
       "0            0     0            0   0        0  \n",
       "1            0     0            0   0        0  \n",
       "2            0     0            0   0        0  \n",
       "3            0     0            0   0        0  \n",
       "4            0     0            0   0        0  \n",
       "\n",
       "[5 rows x 67512 columns]"
      ]
     },
     "execution_count": 28,
     "metadata": {},
     "output_type": "execute_result"
    }
   ],
   "source": [
    "X_counts_df.head()"
   ]
  },
  {
   "cell_type": "code",
   "execution_count": 29,
   "metadata": {},
   "outputs": [
    {
     "name": "stdout",
     "output_type": "stream",
     "text": [
      "      genre_Country  genre_Other  genre_Pop/Rock  genre_Rap\n",
      "5463              0            0               1          0\n",
      "3637              0            0               1          0\n",
      "106               0            0               1          0\n",
      "1058              1            0               0          0\n",
      "7419              0            1               0          0\n",
      "2746              0            0               1          0\n",
      "3569              0            0               1          0\n",
      "6886              0            1               0          0\n",
      "3137              0            1               0          0\n",
      "5837              0            0               1          0\n",
      "1274              0            0               1          0\n",
      "5988              0            0               1          0\n",
      "653               0            0               1          0\n",
      "7324              0            0               1          0\n",
      "7170              1            0               0          0\n",
      "4157              0            0               1          0\n",
      "5944              0            1               0          0\n",
      "5743              0            0               0          1\n",
      "5635              0            0               1          0\n",
      "2311              0            0               1          0\n",
      "8370              0            1               0          0\n",
      "6800              0            0               0          1\n",
      "2700              0            0               1          0\n",
      "6578              0            0               1          0\n",
      "1126              0            1               0          0\n",
      "878               0            0               1          0\n",
      "4932              0            0               1          0\n",
      "3008              0            0               1          0\n",
      "1892              0            0               1          0\n",
      "2690              0            0               1          0\n",
      "...             ...          ...             ...        ...\n",
      "5700              0            0               1          0\n",
      "951               1            0               0          0\n",
      "4444              0            0               1          0\n",
      "4841              0            0               1          0\n",
      "1924              0            0               1          0\n",
      "7647              0            1               0          0\n",
      "7578              0            0               0          1\n",
      "4768              0            0               1          0\n",
      "2538              0            0               1          0\n",
      "292               0            0               1          0\n",
      "901               0            0               1          0\n",
      "3749              0            0               0          1\n",
      "1747              0            0               1          0\n",
      "1976              0            0               1          0\n",
      "6549              0            1               0          0\n",
      "4415              0            0               1          0\n",
      "8593              0            1               0          0\n",
      "4280              0            0               1          0\n",
      "1861              0            0               1          0\n",
      "4529              0            1               0          0\n",
      "6360              0            0               1          0\n",
      "7860              0            1               0          0\n",
      "5146              0            0               1          0\n",
      "465               0            0               1          0\n",
      "1042              1            0               0          0\n",
      "6061              0            0               1          0\n",
      "1022              0            0               0          1\n",
      "606               1            0               0          0\n",
      "3437              0            0               1          0\n",
      "4782              0            0               1          0\n",
      "\n",
      "[1798 rows x 4 columns]\n"
     ]
    }
   ],
   "source": [
    "y = lyrics_genre[['genre']]\n",
    "\n",
    "y_genres = pd.get_dummies(y)\n",
    "#y_genres = y_genres.values.reshape(-1,1)\n",
    "print(y_genres)"
   ]
  },
  {
   "cell_type": "code",
   "execution_count": 42,
   "metadata": {},
   "outputs": [],
   "source": [
    "#DO NOT RUN, X_counts is almost 200 mb\n",
    "# y_genres.to_csv('y_vectorized_genres.csv', encoding='utf-8')\n",
    "# X_counts_df.to_csv('X_counts_genres.csv', encoding='utf-8')"
   ]
  },
  {
   "cell_type": "code",
   "execution_count": 30,
   "metadata": {},
   "outputs": [],
   "source": [
    "from sklearn.model_selection import train_test_split\n",
    "\n",
    "X_train, X_test, y_train, y_test = train_test_split(X_counts_df, y_genres, stratify=y)"
   ]
  },
  {
   "cell_type": "code",
   "execution_count": 31,
   "metadata": {
    "collapsed": true
   },
   "outputs": [],
   "source": [
    "from sklearn.linear_model import LogisticRegression\n",
    "\n",
    "log_classifier = LogisticRegression()"
   ]
  },
  {
   "cell_type": "code",
   "execution_count": 34,
   "metadata": {},
   "outputs": [],
   "source": [
    "from sklearn.preprocessing import StandardScaler\n",
    "\n",
    "X_scaler = StandardScaler().fit(X_train)\n",
    "y_scaler = StandardScaler().fit(y_train)"
   ]
  },
  {
   "cell_type": "code",
   "execution_count": 35,
   "metadata": {},
   "outputs": [],
   "source": [
    "X_train_scaled = X_scaler.transform(X_train)\n",
    "X_test_scaled = X_scaler.transform(X_test)\n",
    "y_train_scaled = y_scaler.transform(y_train)\n",
    "y_test_scaled = y_scaler.transform(y_test)"
   ]
  },
  {
   "cell_type": "code",
   "execution_count": 36,
   "metadata": {},
   "outputs": [
    {
     "ename": "ValueError",
     "evalue": "bad input shape (1348, 4)",
     "output_type": "error",
     "traceback": [
      "\u001b[1;31m---------------------------------------------------------------------------\u001b[0m",
      "\u001b[1;31mValueError\u001b[0m                                Traceback (most recent call last)",
      "\u001b[1;32m<ipython-input-36-9092b9c1ac4b>\u001b[0m in \u001b[0;36m<module>\u001b[1;34m()\u001b[0m\n\u001b[1;32m----> 1\u001b[1;33m \u001b[0mlog_classifier\u001b[0m\u001b[1;33m.\u001b[0m\u001b[0mfit\u001b[0m\u001b[1;33m(\u001b[0m\u001b[0mX_train\u001b[0m\u001b[1;33m,\u001b[0m \u001b[0my_train\u001b[0m\u001b[1;33m)\u001b[0m\u001b[1;33m\u001b[0m\u001b[0m\n\u001b[0m",
      "\u001b[1;32m~\\Anaconda3\\lib\\site-packages\\sklearn\\linear_model\\logistic.py\u001b[0m in \u001b[0;36mfit\u001b[1;34m(self, X, y, sample_weight)\u001b[0m\n\u001b[0;32m   1214\u001b[0m \u001b[1;33m\u001b[0m\u001b[0m\n\u001b[0;32m   1215\u001b[0m         X, y = check_X_y(X, y, accept_sparse='csr', dtype=_dtype,\n\u001b[1;32m-> 1216\u001b[1;33m                          order=\"C\")\n\u001b[0m\u001b[0;32m   1217\u001b[0m         \u001b[0mcheck_classification_targets\u001b[0m\u001b[1;33m(\u001b[0m\u001b[0my\u001b[0m\u001b[1;33m)\u001b[0m\u001b[1;33m\u001b[0m\u001b[0m\n\u001b[0;32m   1218\u001b[0m         \u001b[0mself\u001b[0m\u001b[1;33m.\u001b[0m\u001b[0mclasses_\u001b[0m \u001b[1;33m=\u001b[0m \u001b[0mnp\u001b[0m\u001b[1;33m.\u001b[0m\u001b[0munique\u001b[0m\u001b[1;33m(\u001b[0m\u001b[0my\u001b[0m\u001b[1;33m)\u001b[0m\u001b[1;33m\u001b[0m\u001b[0m\n",
      "\u001b[1;32m~\\Anaconda3\\lib\\site-packages\\sklearn\\utils\\validation.py\u001b[0m in \u001b[0;36mcheck_X_y\u001b[1;34m(X, y, accept_sparse, dtype, order, copy, force_all_finite, ensure_2d, allow_nd, multi_output, ensure_min_samples, ensure_min_features, y_numeric, warn_on_dtype, estimator)\u001b[0m\n\u001b[0;32m    576\u001b[0m                         dtype=None)\n\u001b[0;32m    577\u001b[0m     \u001b[1;32melse\u001b[0m\u001b[1;33m:\u001b[0m\u001b[1;33m\u001b[0m\u001b[0m\n\u001b[1;32m--> 578\u001b[1;33m         \u001b[0my\u001b[0m \u001b[1;33m=\u001b[0m \u001b[0mcolumn_or_1d\u001b[0m\u001b[1;33m(\u001b[0m\u001b[0my\u001b[0m\u001b[1;33m,\u001b[0m \u001b[0mwarn\u001b[0m\u001b[1;33m=\u001b[0m\u001b[1;32mTrue\u001b[0m\u001b[1;33m)\u001b[0m\u001b[1;33m\u001b[0m\u001b[0m\n\u001b[0m\u001b[0;32m    579\u001b[0m         \u001b[0m_assert_all_finite\u001b[0m\u001b[1;33m(\u001b[0m\u001b[0my\u001b[0m\u001b[1;33m)\u001b[0m\u001b[1;33m\u001b[0m\u001b[0m\n\u001b[0;32m    580\u001b[0m     \u001b[1;32mif\u001b[0m \u001b[0my_numeric\u001b[0m \u001b[1;32mand\u001b[0m \u001b[0my\u001b[0m\u001b[1;33m.\u001b[0m\u001b[0mdtype\u001b[0m\u001b[1;33m.\u001b[0m\u001b[0mkind\u001b[0m \u001b[1;33m==\u001b[0m \u001b[1;34m'O'\u001b[0m\u001b[1;33m:\u001b[0m\u001b[1;33m\u001b[0m\u001b[0m\n",
      "\u001b[1;32m~\\Anaconda3\\lib\\site-packages\\sklearn\\utils\\validation.py\u001b[0m in \u001b[0;36mcolumn_or_1d\u001b[1;34m(y, warn)\u001b[0m\n\u001b[0;32m    612\u001b[0m         \u001b[1;32mreturn\u001b[0m \u001b[0mnp\u001b[0m\u001b[1;33m.\u001b[0m\u001b[0mravel\u001b[0m\u001b[1;33m(\u001b[0m\u001b[0my\u001b[0m\u001b[1;33m)\u001b[0m\u001b[1;33m\u001b[0m\u001b[0m\n\u001b[0;32m    613\u001b[0m \u001b[1;33m\u001b[0m\u001b[0m\n\u001b[1;32m--> 614\u001b[1;33m     \u001b[1;32mraise\u001b[0m \u001b[0mValueError\u001b[0m\u001b[1;33m(\u001b[0m\u001b[1;34m\"bad input shape {0}\"\u001b[0m\u001b[1;33m.\u001b[0m\u001b[0mformat\u001b[0m\u001b[1;33m(\u001b[0m\u001b[0mshape\u001b[0m\u001b[1;33m)\u001b[0m\u001b[1;33m)\u001b[0m\u001b[1;33m\u001b[0m\u001b[0m\n\u001b[0m\u001b[0;32m    615\u001b[0m \u001b[1;33m\u001b[0m\u001b[0m\n\u001b[0;32m    616\u001b[0m \u001b[1;33m\u001b[0m\u001b[0m\n",
      "\u001b[1;31mValueError\u001b[0m: bad input shape (1348, 4)"
     ]
    }
   ],
   "source": [
    "log_classifier.fit(X_train, y_train)"
   ]
  },
  {
   "cell_type": "code",
   "execution_count": null,
   "metadata": {
    "collapsed": true
   },
   "outputs": [],
   "source": []
  }
 ],
 "metadata": {
  "kernelspec": {
   "display_name": "Python 3",
   "language": "python",
   "name": "python3"
  },
  "language_info": {
   "codemirror_mode": {
    "name": "ipython",
    "version": 3
   },
   "file_extension": ".py",
   "mimetype": "text/x-python",
   "name": "python",
   "nbconvert_exporter": "python",
   "pygments_lexer": "ipython3",
   "version": "3.6.3"
  }
 },
 "nbformat": 4,
 "nbformat_minor": 2
}
