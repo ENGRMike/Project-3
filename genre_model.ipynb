{
 "cells": [
  {
   "cell_type": "code",
   "execution_count": 1,
   "metadata": {
    "collapsed": true
   },
   "outputs": [],
   "source": [
    "import pandas as pd\n",
    "import numpy as np\n",
    "\n",
    "\n",
    "import sqlalchemy\n",
    "from sqlalchemy import create_engine, inspect, Column, Integer, Float, String, Sequence, Boolean, text\n",
    "from sqlalchemy.orm import Session\n",
    "from sqlalchemy.ext.automap import automap_base\n",
    "from sqlalchemy.ext.declarative import declarative_base"
   ]
  },
  {
   "cell_type": "code",
   "execution_count": 2,
   "metadata": {
    "collapsed": true
   },
   "outputs": [],
   "source": [
    "#Using declarative base\n",
    "Base = declarative_base()\n",
    "engine = create_engine('sqlite:///lyrics3.db', echo = False)"
   ]
  },
  {
   "cell_type": "code",
   "execution_count": 3,
   "metadata": {
    "collapsed": true
   },
   "outputs": [],
   "source": [
    "#Creating the table metadata\n",
    "Base.metadata.create_all(engine)\n",
    "session = Session(engine)"
   ]
  },
  {
   "cell_type": "code",
   "execution_count": 4,
   "metadata": {
    "collapsed": true
   },
   "outputs": [],
   "source": [
    "#Binding engine to the metadata\n",
    "meta = sqlalchemy.MetaData()\n",
    "meta.reflect(bind = engine)"
   ]
  },
  {
   "cell_type": "code",
   "execution_count": 5,
   "metadata": {
    "collapsed": true
   },
   "outputs": [],
   "source": [
    "lyrics = pd.read_sql_table('lyrics', engine, index_col=\"id\", coerce_float=False)\n",
    "tracks = pd.read_sql_table('tracks', engine, index_col=\"id\", coerce_float=False)\n",
    "genre = pd.read_sql_table('genres', engine, index_col=\"id\", coerce_float=False)"
   ]
  },
  {
   "cell_type": "code",
   "execution_count": 6,
   "metadata": {
    "collapsed": true
   },
   "outputs": [],
   "source": [
    "lyrics = lyrics[lyrics['lyrics_language']=='en']"
   ]
  },
  {
   "cell_type": "code",
   "execution_count": 7,
   "metadata": {},
   "outputs": [
    {
     "data": {
      "text/html": [
       "<div>\n",
       "<style>\n",
       "    .dataframe thead tr:only-child th {\n",
       "        text-align: right;\n",
       "    }\n",
       "\n",
       "    .dataframe thead th {\n",
       "        text-align: left;\n",
       "    }\n",
       "\n",
       "    .dataframe tbody tr th {\n",
       "        vertical-align: top;\n",
       "    }\n",
       "</style>\n",
       "<table border=\"1\" class=\"dataframe\">\n",
       "  <thead>\n",
       "    <tr style=\"text-align: right;\">\n",
       "      <th></th>\n",
       "      <th>album_id</th>\n",
       "      <th>album_name</th>\n",
       "      <th>artist</th>\n",
       "      <th>genre</th>\n",
       "    </tr>\n",
       "    <tr>\n",
       "      <th>id</th>\n",
       "      <th></th>\n",
       "      <th></th>\n",
       "      <th></th>\n",
       "      <th></th>\n",
       "    </tr>\n",
       "  </thead>\n",
       "  <tbody>\n",
       "    <tr>\n",
       "      <th>1</th>\n",
       "      <td>10266031</td>\n",
       "      <td>Big Willie Style</td>\n",
       "      <td>Will Smith</td>\n",
       "      <td>Rap</td>\n",
       "    </tr>\n",
       "    <tr>\n",
       "      <th>2</th>\n",
       "      <td>10266041</td>\n",
       "      <td>War</td>\n",
       "      <td>U2</td>\n",
       "      <td>Pop/Rock</td>\n",
       "    </tr>\n",
       "    <tr>\n",
       "      <th>3</th>\n",
       "      <td>10266127</td>\n",
       "      <td>Led Zeppelin</td>\n",
       "      <td>Led Zeppelin</td>\n",
       "      <td>Pop/Rock</td>\n",
       "    </tr>\n",
       "    <tr>\n",
       "      <th>4</th>\n",
       "      <td>10266180</td>\n",
       "      <td>Power Windows</td>\n",
       "      <td>Rush</td>\n",
       "      <td>Pop/Rock</td>\n",
       "    </tr>\n",
       "    <tr>\n",
       "      <th>5</th>\n",
       "      <td>10266202</td>\n",
       "      <td>Willennium</td>\n",
       "      <td>Will Smith</td>\n",
       "      <td>Rap</td>\n",
       "    </tr>\n",
       "  </tbody>\n",
       "</table>\n",
       "</div>"
      ],
      "text/plain": [
       "    album_id        album_name        artist     genre\n",
       "id                                                    \n",
       "1   10266031  Big Willie Style    Will Smith       Rap\n",
       "2   10266041               War            U2  Pop/Rock\n",
       "3   10266127      Led Zeppelin  Led Zeppelin  Pop/Rock\n",
       "4   10266180     Power Windows          Rush  Pop/Rock\n",
       "5   10266202        Willennium    Will Smith       Rap"
      ]
     },
     "execution_count": 7,
     "metadata": {},
     "output_type": "execute_result"
    }
   ],
   "source": [
    "genre['album_id']=genre['album_id'].astype(int)\n",
    "genre.head()"
   ]
  },
  {
   "cell_type": "code",
   "execution_count": 8,
   "metadata": {},
   "outputs": [
    {
     "data": {
      "text/html": [
       "<div>\n",
       "<style>\n",
       "    .dataframe thead tr:only-child th {\n",
       "        text-align: right;\n",
       "    }\n",
       "\n",
       "    .dataframe thead th {\n",
       "        text-align: left;\n",
       "    }\n",
       "\n",
       "    .dataframe tbody tr th {\n",
       "        vertical-align: top;\n",
       "    }\n",
       "</style>\n",
       "<table border=\"1\" class=\"dataframe\">\n",
       "  <thead>\n",
       "    <tr style=\"text-align: right;\">\n",
       "      <th></th>\n",
       "      <th>album_id</th>\n",
       "      <th>artist_id</th>\n",
       "      <th>artist_name</th>\n",
       "      <th>explicit_x</th>\n",
       "      <th>has_lyrics</th>\n",
       "      <th>lyrics_id</th>\n",
       "      <th>track_id</th>\n",
       "      <th>track_name</th>\n",
       "      <th>explicit_y</th>\n",
       "      <th>lyrics_body</th>\n",
       "      <th>lyrics_language</th>\n",
       "      <th>lyrics_language_description</th>\n",
       "    </tr>\n",
       "  </thead>\n",
       "  <tbody>\n",
       "    <tr>\n",
       "      <th>0</th>\n",
       "      <td>29219288</td>\n",
       "      <td>33491453</td>\n",
       "      <td>Drake</td>\n",
       "      <td>1</td>\n",
       "      <td>1</td>\n",
       "      <td>18083442</td>\n",
       "      <td>152383631</td>\n",
       "      <td>In My Feelings</td>\n",
       "      <td>1</td>\n",
       "      <td>Trap, TrapMoneyBenny\\nThis shit got me in my f...</td>\n",
       "      <td>en</td>\n",
       "      <td>English</td>\n",
       "    </tr>\n",
       "    <tr>\n",
       "      <th>1</th>\n",
       "      <td>29504205</td>\n",
       "      <td>36425860</td>\n",
       "      <td>DJ Khaled feat. Justin Bieber, Quavo &amp; Chance ...</td>\n",
       "      <td>1</td>\n",
       "      <td>1</td>\n",
       "      <td>18105233</td>\n",
       "      <td>154318893</td>\n",
       "      <td>No Brainer</td>\n",
       "      <td>1</td>\n",
       "      <td>We the Best Music!\\nAnother one!\\nDJ Khaled!\\n...</td>\n",
       "      <td>en</td>\n",
       "      <td>English</td>\n",
       "    </tr>\n",
       "    <tr>\n",
       "      <th>2</th>\n",
       "      <td>29005911</td>\n",
       "      <td>36070710</td>\n",
       "      <td>Maroon 5 feat. Cardi B</td>\n",
       "      <td>1</td>\n",
       "      <td>1</td>\n",
       "      <td>18066274</td>\n",
       "      <td>150959640</td>\n",
       "      <td>Girls Like You</td>\n",
       "      <td>1</td>\n",
       "      <td>Spent twenty-four hours, I need more hours wit...</td>\n",
       "      <td>en</td>\n",
       "      <td>English</td>\n",
       "    </tr>\n",
       "    <tr>\n",
       "      <th>3</th>\n",
       "      <td>29211432</td>\n",
       "      <td>36070710</td>\n",
       "      <td>Maroon 5 feat. Cardi B</td>\n",
       "      <td>1</td>\n",
       "      <td>1</td>\n",
       "      <td>18066274</td>\n",
       "      <td>152271189</td>\n",
       "      <td>Girls Like You</td>\n",
       "      <td>1</td>\n",
       "      <td>Spent twenty-four hours, I need more hours wit...</td>\n",
       "      <td>en</td>\n",
       "      <td>English</td>\n",
       "    </tr>\n",
       "    <tr>\n",
       "      <th>4</th>\n",
       "      <td>28578797</td>\n",
       "      <td>35716462</td>\n",
       "      <td>Cardi B feat. Bad Bunny &amp; J Balvin</td>\n",
       "      <td>1</td>\n",
       "      <td>1</td>\n",
       "      <td>17942796</td>\n",
       "      <td>148363403</td>\n",
       "      <td>I Like It</td>\n",
       "      <td>1</td>\n",
       "      <td>Yeah baby, I like it like that\\nYou gotta beli...</td>\n",
       "      <td>en</td>\n",
       "      <td>English</td>\n",
       "    </tr>\n",
       "  </tbody>\n",
       "</table>\n",
       "</div>"
      ],
      "text/plain": [
       "   album_id  artist_id                                        artist_name  \\\n",
       "0  29219288   33491453                                              Drake   \n",
       "1  29504205   36425860  DJ Khaled feat. Justin Bieber, Quavo & Chance ...   \n",
       "2  29005911   36070710                             Maroon 5 feat. Cardi B   \n",
       "3  29211432   36070710                             Maroon 5 feat. Cardi B   \n",
       "4  28578797   35716462                 Cardi B feat. Bad Bunny & J Balvin   \n",
       "\n",
       "   explicit_x  has_lyrics  lyrics_id   track_id      track_name  explicit_y  \\\n",
       "0           1           1   18083442  152383631  In My Feelings           1   \n",
       "1           1           1   18105233  154318893      No Brainer           1   \n",
       "2           1           1   18066274  150959640  Girls Like You           1   \n",
       "3           1           1   18066274  152271189  Girls Like You           1   \n",
       "4           1           1   17942796  148363403       I Like It           1   \n",
       "\n",
       "                                         lyrics_body lyrics_language  \\\n",
       "0  Trap, TrapMoneyBenny\\nThis shit got me in my f...              en   \n",
       "1  We the Best Music!\\nAnother one!\\nDJ Khaled!\\n...              en   \n",
       "2  Spent twenty-four hours, I need more hours wit...              en   \n",
       "3  Spent twenty-four hours, I need more hours wit...              en   \n",
       "4  Yeah baby, I like it like that\\nYou gotta beli...              en   \n",
       "\n",
       "  lyrics_language_description  \n",
       "0                     English  \n",
       "1                     English  \n",
       "2                     English  \n",
       "3                     English  \n",
       "4                     English  "
      ]
     },
     "execution_count": 8,
     "metadata": {},
     "output_type": "execute_result"
    }
   ],
   "source": [
    "lyrics_tracks = pd.merge(tracks, lyrics, on=\"lyrics_id\")\n",
    "lyrics_tracks.head()"
   ]
  },
  {
   "cell_type": "code",
   "execution_count": 9,
   "metadata": {
    "collapsed": true
   },
   "outputs": [],
   "source": [
    "data = pd.merge(lyrics_tracks, genre, on=\"album_id\")"
   ]
  },
  {
   "cell_type": "code",
   "execution_count": 10,
   "metadata": {
    "collapsed": true
   },
   "outputs": [],
   "source": [
    "data = data.sample(2000)"
   ]
  },
  {
   "cell_type": "code",
   "execution_count": 10,
   "metadata": {
    "collapsed": true
   },
   "outputs": [],
   "source": [
    "lyrics_genre = data[['artist_name','album_name','track_name','lyrics_body','genre']]"
   ]
  },
  {
   "cell_type": "code",
   "execution_count": 11,
   "metadata": {},
   "outputs": [
    {
     "name": "stderr",
     "output_type": "stream",
     "text": [
      "C:\\Users\\micha\\Anaconda3\\lib\\site-packages\\ipykernel_launcher.py:1: SettingWithCopyWarning: \n",
      "A value is trying to be set on a copy of a slice from a DataFrame.\n",
      "Try using .loc[row_indexer,col_indexer] = value instead\n",
      "\n",
      "See the caveats in the documentation: http://pandas.pydata.org/pandas-docs/stable/indexing.html#indexing-view-versus-copy\n",
      "  \"\"\"Entry point for launching an IPython kernel.\n"
     ]
    }
   ],
   "source": [
    "lyrics_genre['combined_text']= lyrics_genre['artist_name']+ \" \" + lyrics_genre['album_name']+\" \" + lyrics_genre['track_name']+\" \" + lyrics_genre['lyrics_body']"
   ]
  },
  {
   "cell_type": "code",
   "execution_count": 12,
   "metadata": {},
   "outputs": [
    {
     "data": {
      "text/html": [
       "<div>\n",
       "<style>\n",
       "    .dataframe thead tr:only-child th {\n",
       "        text-align: right;\n",
       "    }\n",
       "\n",
       "    .dataframe thead th {\n",
       "        text-align: left;\n",
       "    }\n",
       "\n",
       "    .dataframe tbody tr th {\n",
       "        vertical-align: top;\n",
       "    }\n",
       "</style>\n",
       "<table border=\"1\" class=\"dataframe\">\n",
       "  <thead>\n",
       "    <tr style=\"text-align: right;\">\n",
       "      <th></th>\n",
       "      <th>artist_name</th>\n",
       "      <th>album_name</th>\n",
       "      <th>track_name</th>\n",
       "      <th>lyrics_body</th>\n",
       "      <th>genre</th>\n",
       "      <th>combined_text</th>\n",
       "    </tr>\n",
       "  </thead>\n",
       "  <tbody>\n",
       "    <tr>\n",
       "      <th>0</th>\n",
       "      <td>Drake</td>\n",
       "      <td>Scorpion</td>\n",
       "      <td>In My Feelings</td>\n",
       "      <td>Trap, TrapMoneyBenny\\nThis shit got me in my f...</td>\n",
       "      <td>Rap</td>\n",
       "      <td>Drake Scorpion In My Feelings Trap, TrapMoneyB...</td>\n",
       "    </tr>\n",
       "    <tr>\n",
       "      <th>1</th>\n",
       "      <td>Drake</td>\n",
       "      <td>Scorpion</td>\n",
       "      <td>Nice For What</td>\n",
       "      <td>I wanna know who mothafuckin' representin' in ...</td>\n",
       "      <td>Rap</td>\n",
       "      <td>Drake Scorpion Nice For What I wanna know who ...</td>\n",
       "    </tr>\n",
       "    <tr>\n",
       "      <th>2</th>\n",
       "      <td>Drake</td>\n",
       "      <td>Scorpion</td>\n",
       "      <td>God's Plan</td>\n",
       "      <td>Yeah, they wishin' and wishin' and wishin' and...</td>\n",
       "      <td>Rap</td>\n",
       "      <td>Drake Scorpion God's Plan Yeah, they wishin' a...</td>\n",
       "    </tr>\n",
       "    <tr>\n",
       "      <th>3</th>\n",
       "      <td>Drake</td>\n",
       "      <td>Scorpion</td>\n",
       "      <td>Nonstop</td>\n",
       "      <td>Tay Keith, fuck these niggas up!\\n\\nLook, I ju...</td>\n",
       "      <td>Rap</td>\n",
       "      <td>Drake Scorpion Nonstop Tay Keith, fuck these n...</td>\n",
       "    </tr>\n",
       "    <tr>\n",
       "      <th>4</th>\n",
       "      <td>Drake</td>\n",
       "      <td>Scorpion</td>\n",
       "      <td>Survival</td>\n",
       "      <td>I been waitin' on this\\nYeah\\n\\nAll of this di...</td>\n",
       "      <td>Rap</td>\n",
       "      <td>Drake Scorpion Survival I been waitin' on this...</td>\n",
       "    </tr>\n",
       "  </tbody>\n",
       "</table>\n",
       "</div>"
      ],
      "text/plain": [
       "  artist_name album_name      track_name  \\\n",
       "0       Drake   Scorpion  In My Feelings   \n",
       "1       Drake   Scorpion   Nice For What   \n",
       "2       Drake   Scorpion      God's Plan   \n",
       "3       Drake   Scorpion         Nonstop   \n",
       "4       Drake   Scorpion        Survival   \n",
       "\n",
       "                                         lyrics_body genre  \\\n",
       "0  Trap, TrapMoneyBenny\\nThis shit got me in my f...   Rap   \n",
       "1  I wanna know who mothafuckin' representin' in ...   Rap   \n",
       "2  Yeah, they wishin' and wishin' and wishin' and...   Rap   \n",
       "3  Tay Keith, fuck these niggas up!\\n\\nLook, I ju...   Rap   \n",
       "4  I been waitin' on this\\nYeah\\n\\nAll of this di...   Rap   \n",
       "\n",
       "                                       combined_text  \n",
       "0  Drake Scorpion In My Feelings Trap, TrapMoneyB...  \n",
       "1  Drake Scorpion Nice For What I wanna know who ...  \n",
       "2  Drake Scorpion God's Plan Yeah, they wishin' a...  \n",
       "3  Drake Scorpion Nonstop Tay Keith, fuck these n...  \n",
       "4  Drake Scorpion Survival I been waitin' on this...  "
      ]
     },
     "execution_count": 12,
     "metadata": {},
     "output_type": "execute_result"
    }
   ],
   "source": [
    "lyrics_genre.head()"
   ]
  },
  {
   "cell_type": "code",
   "execution_count": 13,
   "metadata": {},
   "outputs": [
    {
     "name": "stderr",
     "output_type": "stream",
     "text": [
      "C:\\Users\\micha\\Anaconda3\\lib\\site-packages\\ipykernel_launcher.py:1: SettingWithCopyWarning: \n",
      "A value is trying to be set on a copy of a slice from a DataFrame\n",
      "\n",
      "See the caveats in the documentation: http://pandas.pydata.org/pandas-docs/stable/indexing.html#indexing-view-versus-copy\n",
      "  \"\"\"Entry point for launching an IPython kernel.\n"
     ]
    }
   ],
   "source": [
    "lyrics_genre.drop(labels=['artist_name','album_name','track_name','lyrics_body'], axis=1, inplace=True)"
   ]
  },
  {
   "cell_type": "code",
   "execution_count": 14,
   "metadata": {},
   "outputs": [
    {
     "data": {
      "text/html": [
       "<div>\n",
       "<style>\n",
       "    .dataframe thead tr:only-child th {\n",
       "        text-align: right;\n",
       "    }\n",
       "\n",
       "    .dataframe thead th {\n",
       "        text-align: left;\n",
       "    }\n",
       "\n",
       "    .dataframe tbody tr th {\n",
       "        vertical-align: top;\n",
       "    }\n",
       "</style>\n",
       "<table border=\"1\" class=\"dataframe\">\n",
       "  <thead>\n",
       "    <tr style=\"text-align: right;\">\n",
       "      <th></th>\n",
       "      <th>genre</th>\n",
       "      <th>combined_text</th>\n",
       "    </tr>\n",
       "  </thead>\n",
       "  <tbody>\n",
       "    <tr>\n",
       "      <th>0</th>\n",
       "      <td>Rap</td>\n",
       "      <td>Drake Scorpion In My Feelings Trap, TrapMoneyB...</td>\n",
       "    </tr>\n",
       "    <tr>\n",
       "      <th>1</th>\n",
       "      <td>Rap</td>\n",
       "      <td>Drake Scorpion Nice For What I wanna know who ...</td>\n",
       "    </tr>\n",
       "    <tr>\n",
       "      <th>2</th>\n",
       "      <td>Rap</td>\n",
       "      <td>Drake Scorpion God's Plan Yeah, they wishin' a...</td>\n",
       "    </tr>\n",
       "    <tr>\n",
       "      <th>3</th>\n",
       "      <td>Rap</td>\n",
       "      <td>Drake Scorpion Nonstop Tay Keith, fuck these n...</td>\n",
       "    </tr>\n",
       "    <tr>\n",
       "      <th>4</th>\n",
       "      <td>Rap</td>\n",
       "      <td>Drake Scorpion Survival I been waitin' on this...</td>\n",
       "    </tr>\n",
       "  </tbody>\n",
       "</table>\n",
       "</div>"
      ],
      "text/plain": [
       "  genre                                      combined_text\n",
       "0   Rap  Drake Scorpion In My Feelings Trap, TrapMoneyB...\n",
       "1   Rap  Drake Scorpion Nice For What I wanna know who ...\n",
       "2   Rap  Drake Scorpion God's Plan Yeah, they wishin' a...\n",
       "3   Rap  Drake Scorpion Nonstop Tay Keith, fuck these n...\n",
       "4   Rap  Drake Scorpion Survival I been waitin' on this..."
      ]
     },
     "execution_count": 14,
     "metadata": {},
     "output_type": "execute_result"
    }
   ],
   "source": [
    "lyrics_genre.head()"
   ]
  },
  {
   "cell_type": "code",
   "execution_count": 15,
   "metadata": {
    "collapsed": true
   },
   "outputs": [],
   "source": [
    "def isEnglish(s):\n",
    "    try:\n",
    "        s.encode(encoding='utf-8').decode('ascii')\n",
    "    except UnicodeDecodeError:\n",
    "        return False\n",
    "    else:\n",
    "        return True"
   ]
  },
  {
   "cell_type": "code",
   "execution_count": 16,
   "metadata": {},
   "outputs": [
    {
     "name": "stderr",
     "output_type": "stream",
     "text": [
      "C:\\Users\\micha\\Anaconda3\\lib\\site-packages\\ipykernel_launcher.py:1: SettingWithCopyWarning: \n",
      "A value is trying to be set on a copy of a slice from a DataFrame\n",
      "\n",
      "See the caveats in the documentation: http://pandas.pydata.org/pandas-docs/stable/indexing.html#indexing-view-versus-copy\n",
      "  \"\"\"Entry point for launching an IPython kernel.\n",
      "C:\\Users\\micha\\Anaconda3\\lib\\site-packages\\ipykernel_launcher.py:2: SettingWithCopyWarning: \n",
      "A value is trying to be set on a copy of a slice from a DataFrame.\n",
      "Try using .loc[row_indexer,col_indexer] = value instead\n",
      "\n",
      "See the caveats in the documentation: http://pandas.pydata.org/pandas-docs/stable/indexing.html#indexing-view-versus-copy\n",
      "  \n"
     ]
    },
    {
     "data": {
      "text/html": [
       "<div>\n",
       "<style>\n",
       "    .dataframe thead tr:only-child th {\n",
       "        text-align: right;\n",
       "    }\n",
       "\n",
       "    .dataframe thead th {\n",
       "        text-align: left;\n",
       "    }\n",
       "\n",
       "    .dataframe tbody tr th {\n",
       "        vertical-align: top;\n",
       "    }\n",
       "</style>\n",
       "<table border=\"1\" class=\"dataframe\">\n",
       "  <thead>\n",
       "    <tr style=\"text-align: right;\">\n",
       "      <th></th>\n",
       "      <th>genre</th>\n",
       "      <th>combined_text</th>\n",
       "      <th>is_english</th>\n",
       "    </tr>\n",
       "  </thead>\n",
       "  <tbody>\n",
       "    <tr>\n",
       "      <th>0</th>\n",
       "      <td>Rap</td>\n",
       "      <td>Drake Scorpion In My Feelings Trap, TrapMoneyB...</td>\n",
       "      <td>True</td>\n",
       "    </tr>\n",
       "    <tr>\n",
       "      <th>1</th>\n",
       "      <td>Rap</td>\n",
       "      <td>Drake Scorpion Nice For What I wanna know who ...</td>\n",
       "      <td>True</td>\n",
       "    </tr>\n",
       "    <tr>\n",
       "      <th>2</th>\n",
       "      <td>Rap</td>\n",
       "      <td>Drake Scorpion God's Plan Yeah, they wishin' a...</td>\n",
       "      <td>True</td>\n",
       "    </tr>\n",
       "    <tr>\n",
       "      <th>3</th>\n",
       "      <td>Rap</td>\n",
       "      <td>Drake Scorpion Nonstop Tay Keith, fuck these n...</td>\n",
       "      <td>True</td>\n",
       "    </tr>\n",
       "    <tr>\n",
       "      <th>4</th>\n",
       "      <td>Rap</td>\n",
       "      <td>Drake Scorpion Survival I been waitin' on this...</td>\n",
       "      <td>False</td>\n",
       "    </tr>\n",
       "  </tbody>\n",
       "</table>\n",
       "</div>"
      ],
      "text/plain": [
       "  genre                                      combined_text  is_english\n",
       "0   Rap  Drake Scorpion In My Feelings Trap, TrapMoneyB...        True\n",
       "1   Rap  Drake Scorpion Nice For What I wanna know who ...        True\n",
       "2   Rap  Drake Scorpion God's Plan Yeah, they wishin' a...        True\n",
       "3   Rap  Drake Scorpion Nonstop Tay Keith, fuck these n...        True\n",
       "4   Rap  Drake Scorpion Survival I been waitin' on this...       False"
      ]
     },
     "execution_count": 16,
     "metadata": {},
     "output_type": "execute_result"
    }
   ],
   "source": [
    "lyrics_genre.dropna(inplace=True)\n",
    "lyrics_genre['is_english'] = lyrics_genre['combined_text'].apply(lambda x: isEnglish(x))\n",
    "lyrics_genre.head()"
   ]
  },
  {
   "cell_type": "code",
   "execution_count": 17,
   "metadata": {
    "collapsed": true
   },
   "outputs": [],
   "source": [
    "lyrics_genre = lyrics_genre[lyrics_genre['is_english']==True]"
   ]
  },
  {
   "cell_type": "code",
   "execution_count": 18,
   "metadata": {},
   "outputs": [
    {
     "data": {
      "text/html": [
       "<div>\n",
       "<style>\n",
       "    .dataframe thead tr:only-child th {\n",
       "        text-align: right;\n",
       "    }\n",
       "\n",
       "    .dataframe thead th {\n",
       "        text-align: left;\n",
       "    }\n",
       "\n",
       "    .dataframe tbody tr th {\n",
       "        vertical-align: top;\n",
       "    }\n",
       "</style>\n",
       "<table border=\"1\" class=\"dataframe\">\n",
       "  <thead>\n",
       "    <tr style=\"text-align: right;\">\n",
       "      <th></th>\n",
       "      <th>genre</th>\n",
       "      <th>combined_text</th>\n",
       "    </tr>\n",
       "  </thead>\n",
       "  <tbody>\n",
       "    <tr>\n",
       "      <th>0</th>\n",
       "      <td>Rap</td>\n",
       "      <td>Drake Scorpion In My Feelings Trap, TrapMoneyB...</td>\n",
       "    </tr>\n",
       "    <tr>\n",
       "      <th>1</th>\n",
       "      <td>Rap</td>\n",
       "      <td>Drake Scorpion Nice For What I wanna know who ...</td>\n",
       "    </tr>\n",
       "    <tr>\n",
       "      <th>2</th>\n",
       "      <td>Rap</td>\n",
       "      <td>Drake Scorpion God's Plan Yeah, they wishin' a...</td>\n",
       "    </tr>\n",
       "    <tr>\n",
       "      <th>3</th>\n",
       "      <td>Rap</td>\n",
       "      <td>Drake Scorpion Nonstop Tay Keith, fuck these n...</td>\n",
       "    </tr>\n",
       "    <tr>\n",
       "      <th>5</th>\n",
       "      <td>Rap</td>\n",
       "      <td>Drake Scorpion Elevate Ayy, elevate, elevate\\n...</td>\n",
       "    </tr>\n",
       "  </tbody>\n",
       "</table>\n",
       "</div>"
      ],
      "text/plain": [
       "  genre                                      combined_text\n",
       "0   Rap  Drake Scorpion In My Feelings Trap, TrapMoneyB...\n",
       "1   Rap  Drake Scorpion Nice For What I wanna know who ...\n",
       "2   Rap  Drake Scorpion God's Plan Yeah, they wishin' a...\n",
       "3   Rap  Drake Scorpion Nonstop Tay Keith, fuck these n...\n",
       "5   Rap  Drake Scorpion Elevate Ayy, elevate, elevate\\n..."
      ]
     },
     "execution_count": 18,
     "metadata": {},
     "output_type": "execute_result"
    }
   ],
   "source": [
    "#lyrics_genre['is_english'].value_counts()\n",
    "lyrics_genre.drop('is_english',axis=1, inplace=True)\n",
    "lyrics_genre.head()"
   ]
  },
  {
   "cell_type": "code",
   "execution_count": 19,
   "metadata": {
    "collapsed": true
   },
   "outputs": [],
   "source": [
    "#dependencies\n",
    "from nltk.corpus import stopwords\n",
    "from nltk import WordNetLemmatizer, PorterStemmer\n",
    "import nltk\n",
    "import string\n",
    "import re\n",
    "from sklearn.feature_extraction.text import CountVectorizer"
   ]
  },
  {
   "cell_type": "code",
   "execution_count": 20,
   "metadata": {
    "collapsed": true
   },
   "outputs": [],
   "source": [
    "# defining the stopwords\n",
    "stopword = stopwords.words('english')\n",
    "\n",
    "#instantiating lemmatization and stemming objects\n",
    "wn = WordNetLemmatizer()\n",
    "ps = PorterStemmer()"
   ]
  },
  {
   "cell_type": "code",
   "execution_count": 21,
   "metadata": {
    "collapsed": true
   },
   "outputs": [],
   "source": [
    "def clean_text(text):\n",
    "    '''\n",
    "    Function accepts a text input and does three things:\n",
    "    1. Removes punctuation\n",
    "    2. Splits into tokens\n",
    "    3. Removes tokens that are stopwords, conducts stemming, and joins together into a single string\n",
    "    '''\n",
    "    text = \"\".join([word.lower() for word in text if word not in string.punctuation])\n",
    "    tokens = re.split('\\W+', text)\n",
    "    text = \" \".join([ps.stem(word) for word in tokens if word not in stopword])\n",
    "    return text"
   ]
  },
  {
   "cell_type": "code",
   "execution_count": 22,
   "metadata": {
    "collapsed": true
   },
   "outputs": [],
   "source": [
    "#cleans text using clean_text() function\n",
    "lyrics_genre['body_text_clean'] = lyrics_genre['combined_text'].apply(lambda x: clean_text(x))"
   ]
  },
  {
   "cell_type": "code",
   "execution_count": 24,
   "metadata": {},
   "outputs": [],
   "source": [
    "lyrics_genre.drop(\"combined_text\", axis=1)\n",
    "#lyrics_genre = pd.get_dummies(lyrics_genre[['genre']])\n",
    "lyrics_genre.to_csv(\"genre_NB_wgenre.csv\", encoding='utf-8')"
   ]
  },
  {
   "cell_type": "code",
   "execution_count": 24,
   "metadata": {
    "collapsed": true
   },
   "outputs": [],
   "source": [
    "ngram_vect = CountVectorizer(ngram_range=(1,2))"
   ]
  },
  {
   "cell_type": "code",
   "execution_count": 25,
   "metadata": {
    "collapsed": true
   },
   "outputs": [],
   "source": [
    "X_counts = ngram_vect.fit_transform(lyrics_genre['body_text_clean'])"
   ]
  },
  {
   "cell_type": "code",
   "execution_count": 26,
   "metadata": {},
   "outputs": [
    {
     "name": "stdout",
     "output_type": "stream",
     "text": [
      "(1798, 67512)\n"
     ]
    }
   ],
   "source": [
    "print(X_counts.shape)"
   ]
  },
  {
   "cell_type": "code",
   "execution_count": 27,
   "metadata": {
    "collapsed": true
   },
   "outputs": [],
   "source": [
    "X_counts_df = pd.DataFrame(X_counts.toarray())\n",
    "X_counts_df.columns = ngram_vect.get_feature_names()"
   ]
  },
  {
   "cell_type": "code",
   "execution_count": 28,
   "metadata": {},
   "outputs": [
    {
     "data": {
      "text/html": [
       "<div>\n",
       "<style>\n",
       "    .dataframe thead tr:only-child th {\n",
       "        text-align: right;\n",
       "    }\n",
       "\n",
       "    .dataframe thead th {\n",
       "        text-align: left;\n",
       "    }\n",
       "\n",
       "    .dataframe tbody tr th {\n",
       "        vertical-align: top;\n",
       "    }\n",
       "</style>\n",
       "<table border=\"1\" class=\"dataframe\">\n",
       "  <thead>\n",
       "    <tr style=\"text-align: right;\">\n",
       "      <th></th>\n",
       "      <th>007</th>\n",
       "      <th>007 im</th>\n",
       "      <th>03</th>\n",
       "      <th>03 stand</th>\n",
       "      <th>0f</th>\n",
       "      <th>0f lyric</th>\n",
       "      <th>10</th>\n",
       "      <th>10 buy</th>\n",
       "      <th>10 command</th>\n",
       "      <th>10 oclock</th>\n",
       "      <th>...</th>\n",
       "      <th>zone panic</th>\n",
       "      <th>zone peopl</th>\n",
       "      <th>zone pleasant</th>\n",
       "      <th>zone that</th>\n",
       "      <th>zoo</th>\n",
       "      <th>zoo station</th>\n",
       "      <th>zoom</th>\n",
       "      <th>zoom impend</th>\n",
       "      <th>zs</th>\n",
       "      <th>zs rock</th>\n",
       "    </tr>\n",
       "  </thead>\n",
       "  <tbody>\n",
       "    <tr>\n",
       "      <th>0</th>\n",
       "      <td>0</td>\n",
       "      <td>0</td>\n",
       "      <td>0</td>\n",
       "      <td>0</td>\n",
       "      <td>0</td>\n",
       "      <td>0</td>\n",
       "      <td>0</td>\n",
       "      <td>0</td>\n",
       "      <td>0</td>\n",
       "      <td>0</td>\n",
       "      <td>...</td>\n",
       "      <td>0</td>\n",
       "      <td>0</td>\n",
       "      <td>0</td>\n",
       "      <td>0</td>\n",
       "      <td>0</td>\n",
       "      <td>0</td>\n",
       "      <td>0</td>\n",
       "      <td>0</td>\n",
       "      <td>0</td>\n",
       "      <td>0</td>\n",
       "    </tr>\n",
       "    <tr>\n",
       "      <th>1</th>\n",
       "      <td>0</td>\n",
       "      <td>0</td>\n",
       "      <td>0</td>\n",
       "      <td>0</td>\n",
       "      <td>0</td>\n",
       "      <td>0</td>\n",
       "      <td>0</td>\n",
       "      <td>0</td>\n",
       "      <td>0</td>\n",
       "      <td>0</td>\n",
       "      <td>...</td>\n",
       "      <td>0</td>\n",
       "      <td>0</td>\n",
       "      <td>0</td>\n",
       "      <td>0</td>\n",
       "      <td>0</td>\n",
       "      <td>0</td>\n",
       "      <td>0</td>\n",
       "      <td>0</td>\n",
       "      <td>0</td>\n",
       "      <td>0</td>\n",
       "    </tr>\n",
       "    <tr>\n",
       "      <th>2</th>\n",
       "      <td>0</td>\n",
       "      <td>0</td>\n",
       "      <td>0</td>\n",
       "      <td>0</td>\n",
       "      <td>0</td>\n",
       "      <td>0</td>\n",
       "      <td>0</td>\n",
       "      <td>0</td>\n",
       "      <td>0</td>\n",
       "      <td>0</td>\n",
       "      <td>...</td>\n",
       "      <td>0</td>\n",
       "      <td>0</td>\n",
       "      <td>0</td>\n",
       "      <td>0</td>\n",
       "      <td>0</td>\n",
       "      <td>0</td>\n",
       "      <td>0</td>\n",
       "      <td>0</td>\n",
       "      <td>0</td>\n",
       "      <td>0</td>\n",
       "    </tr>\n",
       "    <tr>\n",
       "      <th>3</th>\n",
       "      <td>0</td>\n",
       "      <td>0</td>\n",
       "      <td>0</td>\n",
       "      <td>0</td>\n",
       "      <td>0</td>\n",
       "      <td>0</td>\n",
       "      <td>0</td>\n",
       "      <td>0</td>\n",
       "      <td>0</td>\n",
       "      <td>0</td>\n",
       "      <td>...</td>\n",
       "      <td>0</td>\n",
       "      <td>0</td>\n",
       "      <td>0</td>\n",
       "      <td>0</td>\n",
       "      <td>0</td>\n",
       "      <td>0</td>\n",
       "      <td>0</td>\n",
       "      <td>0</td>\n",
       "      <td>0</td>\n",
       "      <td>0</td>\n",
       "    </tr>\n",
       "    <tr>\n",
       "      <th>4</th>\n",
       "      <td>0</td>\n",
       "      <td>0</td>\n",
       "      <td>0</td>\n",
       "      <td>0</td>\n",
       "      <td>0</td>\n",
       "      <td>0</td>\n",
       "      <td>0</td>\n",
       "      <td>0</td>\n",
       "      <td>0</td>\n",
       "      <td>0</td>\n",
       "      <td>...</td>\n",
       "      <td>0</td>\n",
       "      <td>0</td>\n",
       "      <td>0</td>\n",
       "      <td>0</td>\n",
       "      <td>0</td>\n",
       "      <td>0</td>\n",
       "      <td>0</td>\n",
       "      <td>0</td>\n",
       "      <td>0</td>\n",
       "      <td>0</td>\n",
       "    </tr>\n",
       "  </tbody>\n",
       "</table>\n",
       "<p>5 rows × 67512 columns</p>\n",
       "</div>"
      ],
      "text/plain": [
       "   007  007 im  03  03 stand  0f  0f lyric  10  10 buy  10 command  10 oclock  \\\n",
       "0    0       0   0         0   0         0   0       0           0          0   \n",
       "1    0       0   0         0   0         0   0       0           0          0   \n",
       "2    0       0   0         0   0         0   0       0           0          0   \n",
       "3    0       0   0         0   0         0   0       0           0          0   \n",
       "4    0       0   0         0   0         0   0       0           0          0   \n",
       "\n",
       "    ...     zone panic  zone peopl  zone pleasant  zone that  zoo  \\\n",
       "0   ...              0           0              0          0    0   \n",
       "1   ...              0           0              0          0    0   \n",
       "2   ...              0           0              0          0    0   \n",
       "3   ...              0           0              0          0    0   \n",
       "4   ...              0           0              0          0    0   \n",
       "\n",
       "   zoo station  zoom  zoom impend  zs  zs rock  \n",
       "0            0     0            0   0        0  \n",
       "1            0     0            0   0        0  \n",
       "2            0     0            0   0        0  \n",
       "3            0     0            0   0        0  \n",
       "4            0     0            0   0        0  \n",
       "\n",
       "[5 rows x 67512 columns]"
      ]
     },
     "execution_count": 28,
     "metadata": {},
     "output_type": "execute_result"
    }
   ],
   "source": [
    "X_counts_df.head()"
   ]
  },
  {
   "cell_type": "code",
   "execution_count": 29,
   "metadata": {},
   "outputs": [
    {
     "name": "stdout",
     "output_type": "stream",
     "text": [
      "      genre_Country  genre_Other  genre_Pop/Rock  genre_Rap\n",
      "5463              0            0               1          0\n",
      "3637              0            0               1          0\n",
      "106               0            0               1          0\n",
      "1058              1            0               0          0\n",
      "7419              0            1               0          0\n",
      "2746              0            0               1          0\n",
      "3569              0            0               1          0\n",
      "6886              0            1               0          0\n",
      "3137              0            1               0          0\n",
      "5837              0            0               1          0\n",
      "1274              0            0               1          0\n",
      "5988              0            0               1          0\n",
      "653               0            0               1          0\n",
      "7324              0            0               1          0\n",
      "7170              1            0               0          0\n",
      "4157              0            0               1          0\n",
      "5944              0            1               0          0\n",
      "5743              0            0               0          1\n",
      "5635              0            0               1          0\n",
      "2311              0            0               1          0\n",
      "8370              0            1               0          0\n",
      "6800              0            0               0          1\n",
      "2700              0            0               1          0\n",
      "6578              0            0               1          0\n",
      "1126              0            1               0          0\n",
      "878               0            0               1          0\n",
      "4932              0            0               1          0\n",
      "3008              0            0               1          0\n",
      "1892              0            0               1          0\n",
      "2690              0            0               1          0\n",
      "...             ...          ...             ...        ...\n",
      "5700              0            0               1          0\n",
      "951               1            0               0          0\n",
      "4444              0            0               1          0\n",
      "4841              0            0               1          0\n",
      "1924              0            0               1          0\n",
      "7647              0            1               0          0\n",
      "7578              0            0               0          1\n",
      "4768              0            0               1          0\n",
      "2538              0            0               1          0\n",
      "292               0            0               1          0\n",
      "901               0            0               1          0\n",
      "3749              0            0               0          1\n",
      "1747              0            0               1          0\n",
      "1976              0            0               1          0\n",
      "6549              0            1               0          0\n",
      "4415              0            0               1          0\n",
      "8593              0            1               0          0\n",
      "4280              0            0               1          0\n",
      "1861              0            0               1          0\n",
      "4529              0            1               0          0\n",
      "6360              0            0               1          0\n",
      "7860              0            1               0          0\n",
      "5146              0            0               1          0\n",
      "465               0            0               1          0\n",
      "1042              1            0               0          0\n",
      "6061              0            0               1          0\n",
      "1022              0            0               0          1\n",
      "606               1            0               0          0\n",
      "3437              0            0               1          0\n",
      "4782              0            0               1          0\n",
      "\n",
      "[1798 rows x 4 columns]\n"
     ]
    }
   ],
   "source": [
    "y = lyrics_genre[['genre']]\n",
    "\n",
    "y_genres = pd.get_dummies(y)\n",
    "#y_genres = y_genres.values.reshape(-1,1)\n",
    "print(y_genres)"
   ]
  },
  {
   "cell_type": "code",
   "execution_count": 42,
   "metadata": {
    "collapsed": true
   },
   "outputs": [],
   "source": [
    "#DO NOT RUN, X_counts is almost 200 mb\n",
    "# y_genres.to_csv('y_vectorized_genres.csv', encoding='utf-8')\n",
    "# X_counts_df.to_csv('X_counts_genres.csv', encoding='utf-8')"
   ]
  },
  {
   "cell_type": "code",
   "execution_count": 42,
   "metadata": {
    "collapsed": true
   },
   "outputs": [],
   "source": [
    "from sklearn.model_selection import train_test_split\n",
    "\n",
    "X_train, X_test, y_train, y_test = train_test_split(X_counts_df, y_genres, stratify=y)"
   ]
  },
  {
   "cell_type": "code",
   "execution_count": 44,
   "metadata": {
    "collapsed": true
   },
   "outputs": [],
   "source": [
    "from sklearn.ensemble import RandomForestClassifier\n",
    "rf=RandomForestClassifier(n_estimators=50)"
   ]
  },
  {
   "cell_type": "code",
   "execution_count": 45,
   "metadata": {},
   "outputs": [
    {
     "data": {
      "text/plain": [
       "RandomForestClassifier(bootstrap=True, class_weight=None, criterion='gini',\n",
       "            max_depth=None, max_features='auto', max_leaf_nodes=None,\n",
       "            min_impurity_decrease=0.0, min_impurity_split=None,\n",
       "            min_samples_leaf=1, min_samples_split=2,\n",
       "            min_weight_fraction_leaf=0.0, n_estimators=50, n_jobs=1,\n",
       "            oob_score=False, random_state=None, verbose=0,\n",
       "            warm_start=False)"
      ]
     },
     "execution_count": 45,
     "metadata": {},
     "output_type": "execute_result"
    }
   ],
   "source": [
    "rf.fit(X_train, y_train)"
   ]
  },
  {
   "cell_type": "code",
   "execution_count": 47,
   "metadata": {},
   "outputs": [
    {
     "data": {
      "text/plain": [
       "0.76000000000000001"
      ]
     },
     "execution_count": 47,
     "metadata": {},
     "output_type": "execute_result"
    }
   ],
   "source": [
    "rf.score(X_test, y_test)"
   ]
  },
  {
   "cell_type": "code",
   "execution_count": 53,
   "metadata": {
    "collapsed": true
   },
   "outputs": [],
   "source": [
    "import pickle"
   ]
  },
  {
   "cell_type": "code",
   "execution_count": 54,
   "metadata": {
    "collapsed": true
   },
   "outputs": [],
   "source": [
    "pickle.dump(rf, open('rf_genre_model','wb'))"
   ]
  },
  {
   "cell_type": "code",
   "execution_count": null,
   "metadata": {
    "collapsed": true
   },
   "outputs": [],
   "source": []
  }
 ],
 "metadata": {
  "kernelspec": {
   "display_name": "Python 3",
   "language": "python",
   "name": "python3"
  },
  "language_info": {
   "codemirror_mode": {
    "name": "ipython",
    "version": 3
   },
   "file_extension": ".py",
   "mimetype": "text/x-python",
   "name": "python",
   "nbconvert_exporter": "python",
   "pygments_lexer": "ipython3",
   "version": "3.6.3"
  }
 },
 "nbformat": 4,
 "nbformat_minor": 2
}
