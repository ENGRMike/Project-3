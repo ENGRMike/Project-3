{
 "cells": [
  {
   "cell_type": "code",
   "execution_count": 1,
   "metadata": {
    "collapsed": true
   },
   "outputs": [],
   "source": [
    "from pyspark.sql import SparkSession\n",
    "from pyspark.ml.feature import Tokenizer, HashingTF, IDF, VectorAssembler, StringIndexer\n",
    "import pandas as pd"
   ]
  },
  {
   "cell_type": "code",
   "execution_count": 2,
   "metadata": {
    "collapsed": true
   },
   "outputs": [],
   "source": [
    "spark = SparkSession.builder.appName('genre_N-B').getOrCreate()"
   ]
  },
  {
   "cell_type": "code",
   "execution_count": 3,
   "metadata": {},
   "outputs": [
    {
     "name": "stdout",
     "output_type": "stream",
     "text": [
      "+---+-----+--------------------+\n",
      "|_c0|genre|     body_text_clean|\n",
      "+---+-----+--------------------+\n",
      "|  0|  Rap|drake scorpion fe...|\n",
      "|  1|  Rap|drake scorpion ni...|\n",
      "|  2|  Rap|drake scorpion go...|\n",
      "|  3|  Rap|drake scorpion no...|\n",
      "|  5|  Rap|drake scorpion el...|\n",
      "|  7|  Rap|drake scorpion im...|\n",
      "|  9|  Rap|drake scorpion mo...|\n",
      "| 10|  Rap|drake scorpion ca...|\n",
      "| 11|  Rap|drake scorpion sa...|\n",
      "| 12|  Rap|drake feat jayz s...|\n",
      "| 13|  Rap|drake scorpion ho...|\n",
      "| 14|  Rap|drake scorpion pe...|\n",
      "| 15|  Rap|drake scorpion su...|\n",
      "| 17|  Rap|drake scorpion fi...|\n",
      "| 19|  Rap|drake scorpion th...|\n",
      "| 20|  Rap|drake scorpion bl...|\n",
      "| 21|  Rap|drake feat michae...|\n",
      "| 22|  Rap|drake feat static...|\n",
      "| 23|  Rap|drake scorpion fi...|\n",
      "| 24|  Rap|drake scorpion 14...|\n",
      "+---+-----+--------------------+\n",
      "only showing top 20 rows\n",
      "\n"
     ]
    }
   ],
   "source": [
    "lyric_data = spark.read.format('csv').option('header','true').load('genre_NB_wgenre.csv')\n",
    "lyric_data.show()"
   ]
  },
  {
   "cell_type": "code",
   "execution_count": 4,
   "metadata": {},
   "outputs": [
    {
     "name": "stdout",
     "output_type": "stream",
     "text": [
      "+---+-----+--------------------+------+\n",
      "|_c0|genre|     body_text_clean|length|\n",
      "+---+-----+--------------------+------+\n",
      "|  0|  Rap|drake scorpion fe...|   610|\n",
      "|  1|  Rap|drake scorpion ni...|   699|\n",
      "|  2|  Rap|drake scorpion go...|   406|\n",
      "|  3|  Rap|drake scorpion no...|   804|\n",
      "|  5|  Rap|drake scorpion el...|   335|\n",
      "|  7|  Rap|drake scorpion im...|   450|\n",
      "|  9|  Rap|drake scorpion mo...|   520|\n",
      "| 10|  Rap|drake scorpion ca...|   392|\n",
      "| 11|  Rap|drake scorpion sa...|   653|\n",
      "| 12|  Rap|drake feat jayz s...|   464|\n",
      "| 13|  Rap|drake scorpion ho...|   626|\n",
      "| 14|  Rap|drake scorpion pe...|   302|\n",
      "| 15|  Rap|drake scorpion su...|   359|\n",
      "| 17|  Rap|drake scorpion fi...|   251|\n",
      "| 19|  Rap|drake scorpion th...|   373|\n",
      "| 20|  Rap|drake scorpion bl...|   414|\n",
      "| 21|  Rap|drake feat michae...|   324|\n",
      "| 22|  Rap|drake feat static...|   564|\n",
      "| 23|  Rap|drake scorpion fi...|   521|\n",
      "| 24|  Rap|drake scorpion 14...|   573|\n",
      "+---+-----+--------------------+------+\n",
      "only showing top 20 rows\n",
      "\n"
     ]
    }
   ],
   "source": [
    "from pyspark.sql.functions import length\n",
    "data = lyric_data.withColumn('length', length(lyric_data['body_text_clean']))\n",
    "data.show()"
   ]
  },
  {
   "cell_type": "code",
   "execution_count": 6,
   "metadata": {},
   "outputs": [],
   "source": [
    "pos_to_neg_number = StringIndexer(inputCol=\"genre\", outputCol='label')\n",
    "tokenizer = Tokenizer(inputCol='body_text_clean', outputCol='token_lyrics')\n",
    "hashingTF = HashingTF(inputCol='token_lyrics', outputCol='hash_lyrics')\n",
    "idf = IDF(inputCol='hash_lyrics', outputCol='idf_lyrics')"
   ]
  },
  {
   "cell_type": "code",
   "execution_count": 7,
   "metadata": {
    "collapsed": true
   },
   "outputs": [],
   "source": [
    "from pyspark.ml.linalg import Vector\n",
    "\n",
    "clean_up = VectorAssembler(inputCols=['idf_lyrics', 'length'], outputCol='features')"
   ]
  },
  {
   "cell_type": "code",
   "execution_count": 8,
   "metadata": {
    "collapsed": true
   },
   "outputs": [],
   "source": [
    "from pyspark.ml import Pipeline\n",
    "\n",
    "data_prep_pipline = Pipeline(stages=[pos_to_neg_number, tokenizer, hashingTF, idf, clean_up])"
   ]
  },
  {
   "cell_type": "code",
   "execution_count": 9,
   "metadata": {
    "collapsed": true
   },
   "outputs": [],
   "source": [
    "cleaner = data_prep_pipline.fit(data)\n",
    "cleaned = cleaner.transform(data)"
   ]
  },
  {
   "cell_type": "code",
   "execution_count": 11,
   "metadata": {},
   "outputs": [
    {
     "name": "stdout",
     "output_type": "stream",
     "text": [
      "+-----+--------------------+\n",
      "|label|            features|\n",
      "+-----+--------------------+\n",
      "|  2.0|(262145,[1353,907...|\n",
      "|  2.0|(262145,[2437,538...|\n",
      "|  2.0|(262145,[4914,576...|\n",
      "|  2.0|(262145,[2437,306...|\n",
      "|  2.0|(262145,[8342,231...|\n",
      "|  2.0|(262145,[4402,107...|\n",
      "|  2.0|(262145,[7597,834...|\n",
      "|  2.0|(262145,[1576,410...|\n",
      "|  2.0|(262145,[11160,13...|\n",
      "|  2.0|(262145,[8342,106...|\n",
      "|  2.0|(262145,[1353,232...|\n",
      "|  2.0|(262145,[2089,392...|\n",
      "|  2.0|(262145,[976,5325...|\n",
      "|  2.0|(262145,[2325,690...|\n",
      "|  2.0|(262145,[1353,648...|\n",
      "|  2.0|(262145,[7617,217...|\n",
      "|  2.0|(262145,[31308,47...|\n",
      "|  2.0|(262145,[7218,834...|\n",
      "|  2.0|(262145,[1353,834...|\n",
      "|  2.0|(262145,[4914,678...|\n",
      "+-----+--------------------+\n",
      "only showing top 20 rows\n",
      "\n"
     ]
    }
   ],
   "source": [
    "cleaned.select(['label', 'features']).show()"
   ]
  },
  {
   "cell_type": "code",
   "execution_count": 13,
   "metadata": {},
   "outputs": [],
   "source": [
    "(training, testing) = cleaned.randomSplit([0.7, 0.3])"
   ]
  },
  {
   "cell_type": "code",
   "execution_count": 14,
   "metadata": {
    "collapsed": true
   },
   "outputs": [],
   "source": [
    "from pyspark.ml.classification import NaiveBayes\n",
    "\n",
    "nb = NaiveBayes(smoothing=1.0, modelType='multinomial')\n",
    "genre_predictor = nb.fit(training)"
   ]
  },
  {
   "cell_type": "code",
   "execution_count": 16,
   "metadata": {},
   "outputs": [
    {
     "name": "stdout",
     "output_type": "stream",
     "text": [
      "+----+--------+--------------------+------+-----+--------------------+--------------------+--------------------+--------------------+--------------------+--------------------+----------+\n",
      "| _c0|   genre|     body_text_clean|length|label|        token_lyrics|         hash_lyrics|          idf_lyrics|            features|       rawPrediction|         probability|prediction|\n",
      "+----+--------+--------------------+------+-----+--------------------+--------------------+--------------------+--------------------+--------------------+--------------------+----------+\n",
      "|1002|Pop/Rock|disturb immort de...|   465|  0.0|[disturb, immort,...|(262144,[5795,683...|(262144,[5795,683...|(262145,[5795,683...|[-3490.4995428511...|[1.0,5.9743810316...|       0.0|\n",
      "|1006|Pop/Rock|disturb immort de...|   276|  0.0|[disturb, immort,...|(262144,[991,5795...|(262144,[991,5795...|(262145,[991,5795...|[-1698.4449226687...|[1.0,8.4608128113...|       0.0|\n",
      "| 101|Pop/Rock|5 second summer y...|   260|  0.0|[5, second, summe...|(262144,[5765,998...|(262144,[5765,998...|(262145,[5765,998...|[-1395.2302144488...|[1.0,8.7986623837...|       0.0|\n",
      "|1011|Pop/Rock|disturb immort de...|   436|  0.0|[disturb, immort,...|(262144,[5795,690...|(262144,[5795,690...|(262145,[5795,690...|[-2633.3264850687...|[1.0,3.9118817526...|       0.0|\n",
      "|1014|Pop/Rock|disturb immort de...|   335|  0.0|[disturb, immort,...|(262144,[635,4900...|(262144,[635,4900...|(262145,[635,4900...|[-1920.5210620043...|[1.0,2.7560409054...|       0.0|\n",
      "|1016|     Rap|nicki minaj feat ...|   436|  2.0|[nicki, minaj, fe...|(262144,[4948,257...|(262144,[4948,257...|(262145,[4948,257...|[-2831.0224063964...|[0.00149846331466...|       2.0|\n",
      "|1019|     Rap|macklemor feat ke...|   548|  2.0|[macklemor, feat,...|(262144,[4200,139...|(262144,[4200,139...|(262145,[4200,139...|[-3567.2430261337...|[1.0,5.0232151587...|       0.0|\n",
      "|1024|     Rap|macklemor feat da...|   492|  2.0|[macklemor, feat,...|(262144,[1353,690...|(262144,[1353,690...|(262145,[1353,690...|[-3262.6528786298...|[1.0,5.2435145170...|       0.0|\n",
      "|1028|     Rap|macklemor gemini ...|   559|  2.0|[macklemor, gemin...|(262144,[1353,243...|(262144,[1353,243...|(262145,[1353,243...|[-4000.2324249516...|[1.22247035782332...|       2.0|\n",
      "|1030|     Rap|macklemor feat ab...|   609|  2.0|[macklemor, feat,...|(262144,[5765,759...|(262144,[5765,759...|(262145,[5765,759...|[-4399.7907336970...|[1.0,1.2851750139...|       0.0|\n",
      "|1033|     Rap|macklemor feat xp...|   586|  2.0|[macklemor, feat,...|(262144,[6834,218...|(262144,[6834,218...|(262145,[6834,218...|[-3765.2974859595...|[1.0,1.6964499622...|       0.0|\n",
      "|1035| Country|dierk bentley fea...|   445|  3.0|[dierk, bentley, ...|(262144,[535,813,...|(262144,[535,813,...|(262145,[535,813,...|[-2467.8715412296...|[1.0,1.3544438229...|       0.0|\n",
      "|1041| Country|dierk bentley mou...|   394|  3.0|[dierk, bentley, ...|(262144,[535,813,...|(262144,[535,813,...|(262145,[535,813,...|[-2256.6982158873...|[1.0,4.9662365614...|       0.0|\n",
      "|1043| Country|dierk bentley mou...|   340|  3.0|[dierk, bentley, ...|(262144,[535,813,...|(262144,[535,813,...|(262145,[535,813,...|[-1629.4463479654...|[1.0,1.6355840995...|       0.0|\n",
      "|1045| Country|dierk bentley mou...|   329|  3.0|[dierk, bentley, ...|(262144,[535,813,...|(262144,[535,813,...|(262145,[535,813,...|[-1826.3361327828...|[1.0,1.1453354976...|       0.0|\n",
      "|1049| Country|scotti mccreeri s...|   462|  3.0|[scotti, mccreeri...|(262144,[13957,24...|(262144,[13957,24...|(262145,[13957,24...|[-2502.2200353002...|[1.0,4.3593867534...|       0.0|\n",
      "|1051| Country|scotti mccreeri s...|   432|  3.0|[scotti, mccreeri...|(262144,[4200,901...|(262144,[4200,901...|(262145,[4200,901...|[-3279.4162307070...|[1.0,2.7595007890...|       0.0|\n",
      "|1055| Country|scotti mccreeri s...|   354|  3.0|[scotti, mccreeri...|(262144,[5765,127...|(262144,[5765,127...|(262145,[5765,127...|[-2366.2365238933...|[1.0,3.2957857084...|       0.0|\n",
      "|1056| Country|scotti mccreeri s...|   431|  3.0|[scotti, mccreeri...|(262144,[3067,420...|(262144,[3067,420...|(262145,[3067,420...|[-3035.9830312205...|[1.0,7.7749930308...|       0.0|\n",
      "|1059|Pop/Rock|miley cyru parti ...|   488|  0.0|[miley, cyru, par...|(262144,[2513,912...|(262144,[2513,912...|(262145,[2513,912...|[-3419.2552181501...|[1.0,5.2873596689...|       0.0|\n",
      "+----+--------+--------------------+------+-----+--------------------+--------------------+--------------------+--------------------+--------------------+--------------------+----------+\n",
      "only showing top 20 rows\n",
      "\n"
     ]
    }
   ],
   "source": [
    "test_results = genre_predictor.transform(testing)\n",
    "test_results.show()"
   ]
  },
  {
   "cell_type": "code",
   "execution_count": 17,
   "metadata": {
    "collapsed": true
   },
   "outputs": [],
   "source": [
    "testing = testing.rdd"
   ]
  },
  {
   "cell_type": "code",
   "execution_count": 18,
   "metadata": {},
   "outputs": [
    {
     "name": "stdout",
     "output_type": "stream",
     "text": [
      "The accuracy of the model is: 0.7746005046257359\n",
      "The f1 of the model is: 0.7222035910804357\n",
      "The precision of the model is: 0.7608718634663412\n",
      "The recall of the model is: 0.7746005046257359\n"
     ]
    }
   ],
   "source": [
    "from pyspark.ml.evaluation import MulticlassClassificationEvaluator\n",
    "\n",
    "acc_eval = MulticlassClassificationEvaluator(labelCol='label', predictionCol='prediction', metricName='accuracy')\n",
    "f1_eval = MulticlassClassificationEvaluator(labelCol='label', predictionCol='prediction', metricName='f1')\n",
    "precision_eval = MulticlassClassificationEvaluator(labelCol='label', predictionCol='prediction', metricName='weightedPrecision')\n",
    "recall_eval = MulticlassClassificationEvaluator(labelCol='label', predictionCol='prediction', metricName='weightedRecall')\n",
    "acc = acc_eval.evaluate(test_results)\n",
    "f1 = f1_eval.evaluate(test_results)\n",
    "precision = precision_eval.evaluate(test_results)\n",
    "recall = recall_eval.evaluate(test_results)\n",
    "\n",
    "print(f\"The accuracy of the model is: {acc}\")\n",
    "print(f\"The f1 of the model is: {f1}\")\n",
    "print(f\"The precision of the model is: {precision}\")\n",
    "print(f\"The recall of the model is: {recall}\")"
   ]
  },
  {
   "cell_type": "code",
   "execution_count": 20,
   "metadata": {},
   "outputs": [
    {
     "ename": "Py4JError",
     "evalue": "An error occurred while calling o210.__getstate__. Trace:\npy4j.Py4JException: Method __getstate__([]) does not exist\r\n\tat py4j.reflection.ReflectionEngine.getMethod(ReflectionEngine.java:318)\r\n\tat py4j.reflection.ReflectionEngine.getMethod(ReflectionEngine.java:326)\r\n\tat py4j.Gateway.invoke(Gateway.java:274)\r\n\tat py4j.commands.AbstractCommand.invokeMethod(AbstractCommand.java:132)\r\n\tat py4j.commands.CallCommand.execute(CallCommand.java:79)\r\n\tat py4j.GatewayConnection.run(GatewayConnection.java:238)\r\n\tat java.lang.Thread.run(Unknown Source)\r\n\n",
     "output_type": "error",
     "traceback": [
      "\u001b[1;31m---------------------------------------------------------------------------\u001b[0m",
      "\u001b[1;31mPy4JError\u001b[0m                                 Traceback (most recent call last)",
      "\u001b[1;32m<ipython-input-20-866e37950273>\u001b[0m in \u001b[0;36m<module>\u001b[1;34m()\u001b[0m\n\u001b[0;32m      2\u001b[0m \u001b[1;33m\u001b[0m\u001b[0m\n\u001b[0;32m      3\u001b[0m \u001b[0mf\u001b[0m \u001b[1;33m=\u001b[0m \u001b[0mopen\u001b[0m\u001b[1;33m(\u001b[0m\u001b[1;34m'NB_genre_classifier.pickle'\u001b[0m\u001b[1;33m,\u001b[0m \u001b[1;34m'wb'\u001b[0m\u001b[1;33m)\u001b[0m\u001b[1;33m\u001b[0m\u001b[0m\n\u001b[1;32m----> 4\u001b[1;33m \u001b[0mpickle\u001b[0m\u001b[1;33m.\u001b[0m\u001b[0mdump\u001b[0m\u001b[1;33m(\u001b[0m\u001b[0mgenre_predictor\u001b[0m\u001b[1;33m,\u001b[0m \u001b[0mf\u001b[0m\u001b[1;33m)\u001b[0m\u001b[1;33m\u001b[0m\u001b[0m\n\u001b[0m\u001b[0;32m      5\u001b[0m \u001b[0mf\u001b[0m\u001b[1;33m.\u001b[0m\u001b[0mclose\u001b[0m\u001b[1;33m(\u001b[0m\u001b[1;33m)\u001b[0m\u001b[1;33m\u001b[0m\u001b[0m\n",
      "\u001b[1;32m~\\Anaconda3\\lib\\site-packages\\py4j\\java_gateway.py\u001b[0m in \u001b[0;36m__call__\u001b[1;34m(self, *args)\u001b[0m\n\u001b[0;32m   1255\u001b[0m         \u001b[0manswer\u001b[0m \u001b[1;33m=\u001b[0m \u001b[0mself\u001b[0m\u001b[1;33m.\u001b[0m\u001b[0mgateway_client\u001b[0m\u001b[1;33m.\u001b[0m\u001b[0msend_command\u001b[0m\u001b[1;33m(\u001b[0m\u001b[0mcommand\u001b[0m\u001b[1;33m)\u001b[0m\u001b[1;33m\u001b[0m\u001b[0m\n\u001b[0;32m   1256\u001b[0m         return_value = get_return_value(\n\u001b[1;32m-> 1257\u001b[1;33m             answer, self.gateway_client, self.target_id, self.name)\n\u001b[0m\u001b[0;32m   1258\u001b[0m \u001b[1;33m\u001b[0m\u001b[0m\n\u001b[0;32m   1259\u001b[0m         \u001b[1;32mfor\u001b[0m \u001b[0mtemp_arg\u001b[0m \u001b[1;32min\u001b[0m \u001b[0mtemp_args\u001b[0m\u001b[1;33m:\u001b[0m\u001b[1;33m\u001b[0m\u001b[0m\n",
      "\u001b[1;32m~\\Anaconda3\\lib\\site-packages\\pyspark\\sql\\utils.py\u001b[0m in \u001b[0;36mdeco\u001b[1;34m(*a, **kw)\u001b[0m\n\u001b[0;32m     61\u001b[0m     \u001b[1;32mdef\u001b[0m \u001b[0mdeco\u001b[0m\u001b[1;33m(\u001b[0m\u001b[1;33m*\u001b[0m\u001b[0ma\u001b[0m\u001b[1;33m,\u001b[0m \u001b[1;33m**\u001b[0m\u001b[0mkw\u001b[0m\u001b[1;33m)\u001b[0m\u001b[1;33m:\u001b[0m\u001b[1;33m\u001b[0m\u001b[0m\n\u001b[0;32m     62\u001b[0m         \u001b[1;32mtry\u001b[0m\u001b[1;33m:\u001b[0m\u001b[1;33m\u001b[0m\u001b[0m\n\u001b[1;32m---> 63\u001b[1;33m             \u001b[1;32mreturn\u001b[0m \u001b[0mf\u001b[0m\u001b[1;33m(\u001b[0m\u001b[1;33m*\u001b[0m\u001b[0ma\u001b[0m\u001b[1;33m,\u001b[0m \u001b[1;33m**\u001b[0m\u001b[0mkw\u001b[0m\u001b[1;33m)\u001b[0m\u001b[1;33m\u001b[0m\u001b[0m\n\u001b[0m\u001b[0;32m     64\u001b[0m         \u001b[1;32mexcept\u001b[0m \u001b[0mpy4j\u001b[0m\u001b[1;33m.\u001b[0m\u001b[0mprotocol\u001b[0m\u001b[1;33m.\u001b[0m\u001b[0mPy4JJavaError\u001b[0m \u001b[1;32mas\u001b[0m \u001b[0me\u001b[0m\u001b[1;33m:\u001b[0m\u001b[1;33m\u001b[0m\u001b[0m\n\u001b[0;32m     65\u001b[0m             \u001b[0ms\u001b[0m \u001b[1;33m=\u001b[0m \u001b[0me\u001b[0m\u001b[1;33m.\u001b[0m\u001b[0mjava_exception\u001b[0m\u001b[1;33m.\u001b[0m\u001b[0mtoString\u001b[0m\u001b[1;33m(\u001b[0m\u001b[1;33m)\u001b[0m\u001b[1;33m\u001b[0m\u001b[0m\n",
      "\u001b[1;32m~\\Anaconda3\\lib\\site-packages\\py4j\\protocol.py\u001b[0m in \u001b[0;36mget_return_value\u001b[1;34m(answer, gateway_client, target_id, name)\u001b[0m\n\u001b[0;32m    330\u001b[0m                 raise Py4JError(\n\u001b[0;32m    331\u001b[0m                     \u001b[1;34m\"An error occurred while calling {0}{1}{2}. Trace:\\n{3}\\n\"\u001b[0m\u001b[1;33m.\u001b[0m\u001b[1;33m\u001b[0m\u001b[0m\n\u001b[1;32m--> 332\u001b[1;33m                     format(target_id, \".\", name, value))\n\u001b[0m\u001b[0;32m    333\u001b[0m         \u001b[1;32melse\u001b[0m\u001b[1;33m:\u001b[0m\u001b[1;33m\u001b[0m\u001b[0m\n\u001b[0;32m    334\u001b[0m             raise Py4JError(\n",
      "\u001b[1;31mPy4JError\u001b[0m: An error occurred while calling o210.__getstate__. Trace:\npy4j.Py4JException: Method __getstate__([]) does not exist\r\n\tat py4j.reflection.ReflectionEngine.getMethod(ReflectionEngine.java:318)\r\n\tat py4j.reflection.ReflectionEngine.getMethod(ReflectionEngine.java:326)\r\n\tat py4j.Gateway.invoke(Gateway.java:274)\r\n\tat py4j.commands.AbstractCommand.invokeMethod(AbstractCommand.java:132)\r\n\tat py4j.commands.CallCommand.execute(CallCommand.java:79)\r\n\tat py4j.GatewayConnection.run(GatewayConnection.java:238)\r\n\tat java.lang.Thread.run(Unknown Source)\r\n\n"
     ]
    }
   ],
   "source": [
    "import pickle\n",
    "\n",
    "f = open('NB_genre_classifier.pickle', 'wb')\n",
    "pickle.dump(genre_predictor, f)\n",
    "f.close()"
   ]
  },
  {
   "cell_type": "code",
   "execution_count": null,
   "metadata": {
    "collapsed": true
   },
   "outputs": [],
   "source": []
  }
 ],
 "metadata": {
  "kernelspec": {
   "display_name": "Python 3",
   "language": "python",
   "name": "python3"
  },
  "language_info": {
   "codemirror_mode": {
    "name": "ipython",
    "version": 3
   },
   "file_extension": ".py",
   "mimetype": "text/x-python",
   "name": "python",
   "nbconvert_exporter": "python",
   "pygments_lexer": "ipython3",
   "version": "3.6.3"
  }
 },
 "nbformat": 4,
 "nbformat_minor": 2
}
