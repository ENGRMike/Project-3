{
 "cells": [
  {
   "cell_type": "code",
   "execution_count": 1,
   "metadata": {
    "collapsed": true
   },
   "outputs": [],
   "source": [
    "# general dependencies\n",
    "import pickle\n",
    "import string\n",
    "import re\n",
    "import numpy as np\n",
    "import pandas as pd\n",
    "\n",
    "# NLTK dependencies\n",
    "from nltk.corpus import stopwords\n",
    "from nltk import PorterStemmer\n",
    "\n",
    "#import musixmatch dependencies\n",
    "from musixmatch import Musixmatch\n",
    "from config import api_key\n",
    "\n",
    "# sklearn dependencies\n",
    "from sklearn.feature_extraction.text import CountVectorizer\n",
    "from sklearn.ensemble import GradientBoostingClassifier\n",
    "from sklearn.externals import joblib"
   ]
  },
  {
   "cell_type": "code",
   "execution_count": 2,
   "metadata": {
    "collapsed": true
   },
   "outputs": [],
   "source": [
    "musixmatch = Musixmatch(api_key)"
   ]
  },
  {
   "cell_type": "code",
   "execution_count": 3,
   "metadata": {
    "collapsed": true
   },
   "outputs": [],
   "source": [
    "# defining the stopwords\n",
    "stopword = stopwords.words('english')\n",
    "\n",
    "#instantiating stemming object\n",
    "ps = PorterStemmer()\n",
    "\n",
    "#load the pickled countvectorizer\n",
    "ngram_vect = joblib.load('ngram_vect.pkl')\n",
    "\n",
    "#load the pickled gradientboost model\n",
    "gb = joblib.load('gb.pkl')"
   ]
  },
  {
   "cell_type": "code",
   "execution_count": 4,
   "metadata": {
    "collapsed": true
   },
   "outputs": [],
   "source": [
    "#creating a clean text function\n",
    "def cleanse(text):\n",
    "    '''\n",
    "    Function accepts a text input and does three things:\n",
    "    1. Removes punctuation\n",
    "    2. Splits into tokens\n",
    "    3. Removes tokens that are stopwords, conducts stemming, and joins together into a single string\n",
    "    '''\n",
    "    text = \"\".join([word.lower() for word in text if word not in string.punctuation])\n",
    "    tokens = re.split('\\W+', text)\n",
    "    text = \" \".join([ps.stem(word) for word in tokens if word not in stopword])\n",
    "    return text"
   ]
  },
  {
   "cell_type": "code",
   "execution_count": 5,
   "metadata": {
    "collapsed": true
   },
   "outputs": [],
   "source": [
    "#delivering a prediction\n",
    "def create_prediction(lyrics):\n",
    "\n",
    "    # run cleanse function to remove punct, split into tokens, remove stopords, and perform stemming\n",
    "    cleansed = cleanse(lyrics)\n",
    "\n",
    "    #transform cleansed data into a 2d array\n",
    "    arr = pd.Series(cleansed)\n",
    "    \n",
    "    #transform using the ngram vectorizer\n",
    "    transformed_lyrics = ngram_vect.transform(arr)\n",
    "\n",
    "    #generate a prediction\n",
    "    prediction = gb.predict(transformed_lyrics)\n",
    "    \n",
    "    predict_probability = gb.predict_proba(transformed_lyrics)\n",
    "\n",
    "    #return the prediction\n",
    "    return prediction, predict_probability"
   ]
  },
  {
   "cell_type": "code",
   "execution_count": 6,
   "metadata": {
    "collapsed": true
   },
   "outputs": [],
   "source": [
    "new_lyrics = '''I'm serious nigga one of y'all niggas got some bad motherfucking breath\n",
    "Oh man aye baby, aye Cruisin' down tha street in my '64\n",
    "\n",
    "Verse One:\n",
    "It's like that and it's like this\n",
    "I took her to tha pad and we started tah kiss\n",
    "Now my dick's on hard ya know what I'm thinkin'\n",
    "Took tha panties off and the pussy wasn't stinkin'\n",
    "Pulled off my draws and we started to begin\n",
    "Now tha pussy's wet so my dick slides in\n",
    "Oh, hiddy hiddy hiddy you hoe\n",
    "Ridin' from the back so I'm fuckin' kinda slow\n",
    "So fee fie foe fuck fum\n",
    "She's scratchin' on my back oh here she comes\n",
    "Now I gotta get a nutt gotta get a nutt gotta get it quick\n",
    "Ya know because I love this shit so\n",
    "\n",
    "\n",
    "\n",
    "Read more: Eazy-E - Gimme That Nut Lyrics | MetroLyrics baby\n",
    "Aye baby get some bubblegum in this mother fucker or something\n",
    "Aye, nigga, get something to eat, dog\n",
    "Study long, study wrong nigga'''"
   ]
  },
  {
   "cell_type": "code",
   "execution_count": 7,
   "metadata": {
    "collapsed": true
   },
   "outputs": [],
   "source": [
    "#delivering a prediction\n",
    "def search_lyrics(user_input_title, artist_name):\n",
    "    \n",
    "    try:\n",
    "        #calling API\n",
    "        result = musixmatch.track_search(q_track = user_input_title, q_artist = artist_name, page_size = 100, page = 1, s_track_rating = \"desc\")\n",
    "\n",
    "        #getting track_id, artist name, and track_name for first track\n",
    "        track_id = result['message']['body']['track_list'][0]['track']['track_id']\n",
    "        artist_name = result['message']['body']['track_list'][0]['track']['artist_name']\n",
    "        track_name = result['message']['body']['track_list'][0]['track']['track_name']\n",
    "\n",
    "        #getting lyrics information\n",
    "        lyrics = musixmatch.track_lyrics_get(track_id)\n",
    "        lyrics_package = lyrics['message']['body']['lyrics']\n",
    "        lyrics_body =  lyrics_package[\"lyrics_body\"][:-72]\n",
    "        explicit = lyrics_package['explicit']\n",
    "\n",
    "        #concatenating the artist name, track name and lyrics body\n",
    "        arr = artist_name + track_name + lyrics_body\n",
    "\n",
    "        #run prediction algorithm\n",
    "        lyric_prediction = create_prediction(arr)\n",
    "\n",
    "        #determine the prediction and the probability\n",
    "        if lyric_prediction[0][0] == 0:\n",
    "            prediction = \"Not Explicit\"\n",
    "            probability = lyric_prediction[1][0][0]\n",
    "        else:\n",
    "            prediction = \"Explicit\"\n",
    "            probability = lyric_prediction[1][0][1]\n",
    "\n",
    "        #determine the actual value\n",
    "        if explicit == 0:\n",
    "            actual = \"Not Explicit\"\n",
    "        else:\n",
    "            actual = \"Explicit\"\n",
    "\n",
    "        #determine if our prediction was correct\n",
    "        if prediction == actual:\n",
    "            comparison = \"Correct\"\n",
    "        else:\n",
    "            comparison = \"Incorrect\"\n",
    "\n",
    "        #print out details\n",
    "        print(f\"Song named {track_name} by {artist_name} found.\")\n",
    "        print(f\"We predict that this song is {prediction} with a probability of {probability}\")\n",
    "        print(f\"Musixmatch reports that this song is {actual}\")\n",
    "        print(f\"Our prediction was {comparison}\")\n",
    "        print(f\"Song lyrics are as follows:\")\n",
    "        print(lyrics_body)\n",
    "\n",
    "        #return the lyric_prediction\n",
    "        return lyric_prediction\n",
    "    \n",
    "    except:\n",
    "        print(\"did not find lyrics\")"
   ]
  },
  {
   "cell_type": "code",
   "execution_count": 10,
   "metadata": {},
   "outputs": [
    {
     "name": "stdout",
     "output_type": "stream",
     "text": [
      "Song named Tripping Billies by Dave Matthews & Tim Reynolds found.\n",
      "We predict that this song is Not Explicit with a probability of 0.8803179732783376\n",
      "Musixmatch reports that this song is Not Explicit\n",
      "Our prediction was Correct\n",
      "Song lyrics are as follows:\n",
      "We were above\n",
      "You were standing underneath us\n",
      "We were not yet lovers\n",
      "Dragons were smoked\n",
      "Bumblebees were stinging us\n",
      "I was soon to be crazy\n",
      "\n",
      "Eat, drink, and be merry\n",
      "For tomorrow we die\n",
      "Eat, drink, and be merry\n",
      "For tomorrow we die\n",
      "'Cause we're Tripping Billies\n",
      "\n",
      "We're wearing nothing\n",
      "Nothing but our shadows\n",
      "Shadows falling down on the beach sand\n",
      "Remembering once,\n",
      "..\n"
     ]
    },
    {
     "data": {
      "text/plain": [
       "(array([0], dtype=int64), array([[ 0.88031797,  0.11968203]]))"
      ]
     },
     "execution_count": 10,
     "metadata": {},
     "output_type": "execute_result"
    }
   ],
   "source": [
    "search_lyrics(\"Tripping billies\", \"Dave Matthews\")"
   ]
  },
  {
   "cell_type": "code",
   "execution_count": null,
   "metadata": {
    "collapsed": true
   },
   "outputs": [],
   "source": []
  }
 ],
 "metadata": {
  "kernelspec": {
   "display_name": "Python 3",
   "language": "python",
   "name": "python3"
  },
  "language_info": {
   "codemirror_mode": {
    "name": "ipython",
    "version": 3
   },
   "file_extension": ".py",
   "mimetype": "text/x-python",
   "name": "python",
   "nbconvert_exporter": "python",
   "pygments_lexer": "ipython3",
   "version": "3.6.3"
  }
 },
 "nbformat": 4,
 "nbformat_minor": 2
}
