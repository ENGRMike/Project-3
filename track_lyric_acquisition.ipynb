{
 "cells": [
  {
   "cell_type": "markdown",
   "metadata": {},
   "source": [
    "# Dependencies"
   ]
  },
  {
   "cell_type": "code",
   "execution_count": 1,
   "metadata": {
    "collapsed": true
   },
   "outputs": [],
   "source": [
    "import pandas as pd\n",
    "import numpy as np\n",
    "from musixmatch import Musixmatch\n",
    "from config import api_key\n",
    "import time\n",
    "from pprint import pprint"
   ]
  },
  {
   "cell_type": "code",
   "execution_count": 2,
   "metadata": {
    "collapsed": true
   },
   "outputs": [],
   "source": [
    "import sqlalchemy\n",
    "from sqlalchemy import create_engine, inspect, Column, Integer, Float, String, Sequence, Boolean\n",
    "from sqlalchemy.orm import Session\n",
    "from sqlalchemy.ext.automap import automap_base\n",
    "from sqlalchemy.ext.declarative import declarative_base"
   ]
  },
  {
   "cell_type": "code",
   "execution_count": 3,
   "metadata": {
    "collapsed": true
   },
   "outputs": [],
   "source": [
    "musixmatch = Musixmatch(api_key)"
   ]
  },
  {
   "cell_type": "markdown",
   "metadata": {},
   "source": [
    "# Setting up SQLlite"
   ]
  },
  {
   "cell_type": "code",
   "execution_count": 5,
   "metadata": {
    "collapsed": true
   },
   "outputs": [],
   "source": [
    "#Using declarative base\n",
    "Base = declarative_base()\n",
    "engine = create_engine('sqlite:///lyrics3.db', echo = False)"
   ]
  },
  {
   "cell_type": "code",
   "execution_count": 6,
   "metadata": {
    "collapsed": true
   },
   "outputs": [],
   "source": [
    "#defining the Tracks table\n",
    "class Tracks(Base):\n",
    "    __tablename__ = \"tracks\"\n",
    "    \n",
    "    id = Column(Integer, primary_key=True, nullable = False, unique = True, autoincrement = True)\n",
    "    album_id = Column(Integer)\n",
    "    artist_id = Column(Integer)\n",
    "    artist_name = Column(String)\n",
    "    explicit = Column(Integer)\n",
    "    has_lyrics = Column(Integer)\n",
    "    lyrics_id = Column(Integer)\n",
    "    track_id = Column(Integer, unique = True)\n",
    "    track_name = Column(String)"
   ]
  },
  {
   "cell_type": "code",
   "execution_count": 7,
   "metadata": {
    "collapsed": true
   },
   "outputs": [],
   "source": [
    "#defining the Lyrics table\n",
    "class Lyrics(Base):\n",
    "    __tablename__ = \"lyrics\"\n",
    "    \n",
    "    id = Column(Integer, primary_key=True, nullable = False, unique = True, autoincrement = True)\n",
    "    explicit = Column(Integer)\n",
    "    lyrics_body = Column(String)\n",
    "    lyrics_id = Column(Integer, unique = True)\n",
    "    lyrics_language = Column(String)\n",
    "    lyrics_language_description = Column(String)"
   ]
  },
  {
   "cell_type": "code",
   "execution_count": 8,
   "metadata": {
    "collapsed": true
   },
   "outputs": [],
   "source": [
    "#defining the Artists table\n",
    "class Artists(Base):\n",
    "    __tablename__ = \"artists\"\n",
    "    \n",
    "    id = Column(Integer, primary_key=True, nullable = False, unique = True, autoincrement = True)\n",
    "    artist_id = Column(Integer, unique = True)\n",
    "    artist_name = Column(String)\n",
    "    artist_q = Column(String)"
   ]
  },
  {
   "cell_type": "code",
   "execution_count": 9,
   "metadata": {
    "collapsed": true
   },
   "outputs": [],
   "source": [
    "#defining the Albums table\n",
    "class Albums(Base):\n",
    "    __tablename__ = \"albums\"\n",
    "    \n",
    "    id = Column(Integer, primary_key=True, nullable = False, unique = True, autoincrement = True)\n",
    "    artist_id = Column(Integer)\n",
    "    artist_name = Column(String)\n",
    "    album_id = Column(Integer, unique = True)\n",
    "    album_name = Column(String)"
   ]
  },
  {
   "cell_type": "code",
   "execution_count": 25,
   "metadata": {
    "collapsed": true
   },
   "outputs": [],
   "source": [
    "#defining the genres table\n",
    "class Album_Genres(Base):\n",
    "    __tablename__ = \"album_genres\"\n",
    "    \n",
    "    id = Column(Integer, primary_key=True, nullable = False, unique = True, autoincrement = True)\n",
    "    artist_id = Column(Integer)\n",
    "    artist_name = Column(String)\n",
    "    album_id = Column(Integer)\n",
    "    genre = Column(String)\n",
    "    genre_id = Column(Integer)"
   ]
  },
  {
   "cell_type": "code",
   "execution_count": 26,
   "metadata": {
    "collapsed": true
   },
   "outputs": [],
   "source": [
    "#Creating the table metadata\n",
    "Base.metadata.create_all(engine)\n",
    "session = Session(engine)"
   ]
  },
  {
   "cell_type": "code",
   "execution_count": 27,
   "metadata": {
    "collapsed": true
   },
   "outputs": [],
   "source": [
    "#Binding engine to the metadata\n",
    "meta = sqlalchemy.MetaData()\n",
    "meta.reflect(bind = engine)"
   ]
  },
  {
   "cell_type": "markdown",
   "metadata": {},
   "source": [
    "# MusixMatch API - Finding artists via text search from manually created list"
   ]
  },
  {
   "cell_type": "code",
   "execution_count": 11,
   "metadata": {
    "collapsed": true
   },
   "outputs": [],
   "source": [
    "artists_path = 'artist_names.xlsx'\n",
    "artists_df = pd.read_excel(artists_path, sheetname = \"Sheet1\", header = None)\n",
    "artists = list(artists_df[0].values)"
   ]
  },
  {
   "cell_type": "code",
   "execution_count": 12,
   "metadata": {
    "collapsed": true
   },
   "outputs": [],
   "source": [
    "#Connecting to tracks table\n",
    "table = sqlalchemy.Table('artists', meta, autoload = True)"
   ]
  },
  {
   "cell_type": "code",
   "execution_count": null,
   "metadata": {
    "collapsed": true
   },
   "outputs": [],
   "source": [
    "for artist in artists:\n",
    "    print(f\"getting artist names {artist}\")\n",
    "    result = musixmatch.artist_search(q_artist = artist, page = 1, page_size = 100, f_artist_id = '', f_artist_mbid = '')\n",
    "    print('extracting results')\n",
    "    artist_list = result['message']['body']['artist_list']\n",
    "    artists = [artist['artist'] for artist in artist_list]\n",
    "    print(\"creating package\")\n",
    "    for item in artists:\n",
    "        package = {\n",
    "            'artist_id': item['artist_id'],\n",
    "            'artist_name': item['artist_name'],\n",
    "            'artist_q': artist\n",
    "        }\n",
    "        try:\n",
    "            print(\"writing package to database\")\n",
    "            session.execute(table.insert(), package)\n",
    "        except:\n",
    "            next\n",
    "    print(\"committing to database\")\n",
    "    session.commit()"
   ]
  },
  {
   "cell_type": "markdown",
   "metadata": {},
   "source": [
    "# MusixMatch API - Finding Albums from Artists"
   ]
  },
  {
   "cell_type": "code",
   "execution_count": 26,
   "metadata": {
    "collapsed": true
   },
   "outputs": [],
   "source": [
    "artists = pd.read_sql('artists', engine)\n",
    "artists.dropna(inplace = True)\n",
    "artist_ids = list(artists['artist_id'].values)"
   ]
  },
  {
   "cell_type": "code",
   "execution_count": 27,
   "metadata": {
    "collapsed": true
   },
   "outputs": [],
   "source": [
    "table = sqlalchemy.Table('albums', meta, autoload = True)"
   ]
  },
  {
   "cell_type": "code",
   "execution_count": null,
   "metadata": {
    "collapsed": true
   },
   "outputs": [],
   "source": [
    "for artist_id in artist_ids:\n",
    "    print(f\"getting albums for artist {artist_id}\")\n",
    "    result = musixmatch.artist_albums_get(artist_id = artist_id, g_album_name = '', page = 1, page_size = 100, s_release_date = '')\n",
    "    print(\"extracting the album_list\")\n",
    "    album_list = result['message']['body']['album_list']\n",
    "    print(\"extracting individual albums\")\n",
    "    albums = [album['album'] for album in album_list]\n",
    "    print(\"iterating through the list of albums\")\n",
    "    for item in albums:\n",
    "        print(\"creating the package\")\n",
    "        package = {\n",
    "            'album_id': item['album_id'],\n",
    "            'album_name': item['album_name'],\n",
    "            'artist_id': item['artist_id'],\n",
    "            'artist_name': item['artist_name']\n",
    "        }\n",
    "        try:\n",
    "            print(\"writing to the database\")\n",
    "            session.execute(table.insert(), package)\n",
    "        except:\n",
    "            next\n",
    "    print(\"comitting to the database\")\n",
    "    session.commit()"
   ]
  },
  {
   "cell_type": "markdown",
   "metadata": {},
   "source": [
    "# MusixMatch API - Scraping Tracks From Charts"
   ]
  },
  {
   "cell_type": "code",
   "execution_count": 19,
   "metadata": {
    "collapsed": true
   },
   "outputs": [],
   "source": [
    "#Connecting to tracks table\n",
    "table = sqlalchemy.Table('tracks', meta, autoload = True)"
   ]
  },
  {
   "cell_type": "code",
   "execution_count": 10,
   "metadata": {
    "collapsed": true
   },
   "outputs": [],
   "source": [
    "country_codes = ['AU', 'CA', 'IE', 'IM', 'NZ', 'GB', 'US']"
   ]
  },
  {
   "cell_type": "code",
   "execution_count": null,
   "metadata": {
    "collapsed": true
   },
   "outputs": [],
   "source": [
    "country_count = 1\n",
    "for country in country_codes:\n",
    "    \n",
    "    print(f\"Attempting country {country_count} for {country}\")\n",
    "    \n",
    "    page_count = 1\n",
    "\n",
    "    while page_count < 5:\n",
    "        print(f\"calling api attempt {page_count} for {country}\")\n",
    "        result = musixmatch.chart_tracks_get(page_count, 100, f_has_lyrics = True)\n",
    "        tracks = result['message']['body']['track_list']\n",
    "        track_list = [track['track'] for track in tracks]\n",
    "        print(f\"track list is {len(track_list)}\")\n",
    "        for track in track_list:\n",
    "            package = {\n",
    "                'album_id': track['album_id'],\n",
    "                'artist_id': track['artist_id'],\n",
    "                'artist_name': track['artist_name'],\n",
    "                'explicit': track['explicit'],\n",
    "                'has_lyrics': track['has_lyrics'],\n",
    "                'lyrics_id': track['lyrics_id'],\n",
    "                'track_id': track['track_id'],\n",
    "                'track_name': track['track_name']\n",
    "            }\n",
    "            print(package['track_name'])\n",
    "            print(\"writing to database\")\n",
    "            try:\n",
    "                session.execute(table.insert(), package)\n",
    "            except:\n",
    "                next\n",
    "        page_count += 1\n",
    "        time.sleep(1)\n",
    "        session.commit()\n",
    "    \n",
    "    country_count += 1"
   ]
  },
  {
   "cell_type": "markdown",
   "metadata": {},
   "source": [
    "# MusixMatch API - finding tracks from albums"
   ]
  },
  {
   "cell_type": "markdown",
   "metadata": {},
   "source": [
    "## Starting point is the tracks data from the charts"
   ]
  },
  {
   "cell_type": "code",
   "execution_count": 20,
   "metadata": {
    "collapsed": true
   },
   "outputs": [],
   "source": [
    "tracks = pd.read_sql_table('tracks', engine, index_col = \"id\", coerce_float = False)"
   ]
  },
  {
   "cell_type": "code",
   "execution_count": 21,
   "metadata": {
    "collapsed": true
   },
   "outputs": [],
   "source": [
    "album_ids = tracks['album_id'].values"
   ]
  },
  {
   "cell_type": "code",
   "execution_count": 24,
   "metadata": {
    "collapsed": true
   },
   "outputs": [],
   "source": [
    "#Connecting to tracks table\n",
    "table = sqlalchemy.Table('tracks', meta, autoload = True)"
   ]
  },
  {
   "cell_type": "code",
   "execution_count": null,
   "metadata": {
    "collapsed": true
   },
   "outputs": [],
   "source": [
    "album_count = 1\n",
    "\n",
    "for album_id in album_ids:\n",
    "    print(f\"getting result {album_count} for {album_id}\")\n",
    "    result = musixmatch.album_tracks_get(album_id = album_id, album_mbid = \"\", page = 1, page_size = 100)\n",
    "    print(f\"getting track_list for {album_id}\")\n",
    "    album = result['message']['body']['track_list']\n",
    "    print(\"creating track list\")\n",
    "    track_list = [track['track'] for track in album]\n",
    "    track_count = 1\n",
    "    print(f\"Iterating through tracks in album\")\n",
    "    for track in track_list:\n",
    "        print(f\"track is {track['track_id']}\")\n",
    "        package = {\n",
    "                'album_id': int(track['album_id']),\n",
    "                'artist_id': int(track['artist_id']),\n",
    "                'artist_name': track['artist_name'],\n",
    "                'explicit': int(track['explicit']),\n",
    "                'has_lyrics': int(track['has_lyrics']),\n",
    "                'lyrics_id': int(track['lyrics_id']),\n",
    "                'track_id': int(track['track_id']),\n",
    "                'track_name': track['track_name']\n",
    "            }\n",
    "        print(package['track_name'])\n",
    "        print(\"writing to database\")\n",
    "        try:\n",
    "            session.execute(table.insert(), package)\n",
    "        except:\n",
    "            print(\"writing to database failed\")\n",
    "            next\n",
    "        print(\"committing files to database\")\n",
    "        session.commit()\n",
    "    album_count += 1"
   ]
  },
  {
   "cell_type": "markdown",
   "metadata": {},
   "source": [
    "## Starting point is the album's data"
   ]
  },
  {
   "cell_type": "code",
   "execution_count": 15,
   "metadata": {
    "collapsed": true
   },
   "outputs": [],
   "source": [
    "albums = pd.read_sql_table('albums', engine, index_col = \"id\", coerce_float = False)\n",
    "albums = albums.iloc[647:]\n",
    "album_ids = list(albums['album_id'].values)"
   ]
  },
  {
   "cell_type": "code",
   "execution_count": 16,
   "metadata": {
    "collapsed": true
   },
   "outputs": [],
   "source": [
    "#Connecting to tracks table\n",
    "table = sqlalchemy.Table('tracks', meta, autoload = True)"
   ]
  },
  {
   "cell_type": "code",
   "execution_count": null,
   "metadata": {},
   "outputs": [],
   "source": [
    "album_count = 1\n",
    "\n",
    "for album_id in album_ids:\n",
    "    print(f\"getting result {album_count} for {album_id}\")\n",
    "    result = musixmatch.album_tracks_get(album_id = album_id, album_mbid = \"\", page = 1, page_size = 100)\n",
    "    print(f\"getting track_list for {album_id}\")\n",
    "    album = result['message']['body']['track_list']\n",
    "    print(\"creating track list\")\n",
    "    track_list = [track['track'] for track in album]\n",
    "    track_count = 1\n",
    "    print(f\"Iterating through tracks in album\")\n",
    "    for track in track_list:\n",
    "        print(f\"track is {track['track_id']}\")\n",
    "        package = {\n",
    "                'album_id': int(track['album_id']),\n",
    "                'artist_id': int(track['artist_id']),\n",
    "                'artist_name': track['artist_name'],\n",
    "                'explicit': int(track['explicit']),\n",
    "                'has_lyrics': int(track['has_lyrics']),\n",
    "                'lyrics_id': int(track['lyrics_id']),\n",
    "                'track_id': int(track['track_id']),\n",
    "                'track_name': track['track_name']\n",
    "            }\n",
    "        print(package['track_name'])\n",
    "        print(\"writing to database\")\n",
    "        try:\n",
    "            session.execute(table.insert(), package)\n",
    "        except:\n",
    "            print(\"writing to database failed\")\n",
    "            next\n",
    "        print(\"committing files to database\")\n",
    "        session.commit()\n",
    "    album_count += 1"
   ]
  },
  {
   "cell_type": "markdown",
   "metadata": {},
   "source": [
    "## MusixMatch API - Scraping Lyrics from the Albums Data"
   ]
  },
  {
   "cell_type": "code",
   "execution_count": 28,
   "metadata": {
    "collapsed": true
   },
   "outputs": [],
   "source": [
    "#Connecting to lyrics table\n",
    "table = sqlalchemy.Table('lyrics', meta, autoload = True)"
   ]
  },
  {
   "cell_type": "code",
   "execution_count": 29,
   "metadata": {
    "collapsed": true
   },
   "outputs": [],
   "source": [
    "tracks = pd.read_sql('tracks', engine, index_col = \"id\")\n",
    "track_ids = tracks['track_id'].values"
   ]
  },
  {
   "cell_type": "code",
   "execution_count": null,
   "metadata": {
    "collapsed": true
   },
   "outputs": [],
   "source": [
    "count = 1\n",
    "for track in track_ids:\n",
    "    print(f\"calling API attempt {count} for track_id# {track}\")\n",
    "    print(f\"track data type is {type(track)}\")\n",
    "    lyrics = musixmatch.track_lyrics_get(track)\n",
    "    print(\"pulling out lyrics package\")\n",
    "    lyrics_package = lyrics['message']['body']['lyrics']\n",
    "    print(\"pulling out package to insert into SQL database\")\n",
    "    package = {\n",
    "        \"explicit\": lyrics_package['explicit'],\n",
    "        \"lyrics_body\": lyrics_package[\"lyrics_body\"][:-69],\n",
    "        \"lyrics_id\": lyrics_package['lyrics_id'],\n",
    "        \"lyrics_language\": lyrics_package['lyrics_language'],\n",
    "        \"lyrics_language_description\": lyrics_package['lyrics_language_description'],\n",
    "        \"updated_time\": lyrics_package['updated_time']\n",
    "    }\n",
    "    \n",
    "    print(package['lyrics_body'][:10])\n",
    "    print(\"writing to database\")\n",
    "    try:\n",
    "        session.execute(table.insert(), package)\n",
    "    except:\n",
    "        next\n",
    "    print(\"committing files to database\")\n",
    "    session.commit()\n",
    "    count += 1 "
   ]
  },
  {
   "cell_type": "markdown",
   "metadata": {},
   "source": [
    "# Acquiring Genre from Album"
   ]
  },
  {
   "cell_type": "code",
   "execution_count": null,
   "metadata": {
    "collapsed": true
   },
   "outputs": [],
   "source": [
    "#Connecting to lyrics table\n",
    "table = sqlalchemy.Table('genre', meta, autoload = True)"
   ]
  },
  {
   "cell_type": "code",
   "execution_count": null,
   "metadata": {
    "collapsed": true
   },
   "outputs": [],
   "source": [
    "albums = pd.read_sql_table('albums', engine, index_col = \"id\", coerce_float = False)\n",
    "album_ids = list(albums['album_id'].values)"
   ]
  },
  {
   "cell_type": "code",
   "execution_count": null,
   "metadata": {
    "collapsed": true
   },
   "outputs": [],
   "source": [
    "album_count = 1\n",
    "\n",
    "for album_id in album_ids:\n",
    "    print(f\"getting result {album_count} for {album_id}\")\n",
    "    result = musixmatch.album_get(album_id = album_id)\n",
    "    print(f\"getting information for {album_id}\")\n",
    "    album = result['message']['body']['album']\n",
    "    print(\"creating genre list\")\n",
    "    genres = result['message']['body']['album']['primary_genres']['music_genre_list']\n",
    "    genre_list = [genre['music_genre'] for genre in genres]\n",
    "    print(f\"Iterating through album genres\")\n",
    "    for genre in track_list:\n",
    "        package = {\n",
    "                'album_id': int(album['album_id']),\n",
    "                'artist_id': int(album['artist_id']),\n",
    "                'artist_name': album['artist_name'],\n",
    "                'genre': genre['music_genre_name'],\n",
    "                'genre_id': genre['music_genre_id']\n",
    "                \n",
    "            }\n",
    "        print(package['album_id'])\n",
    "        print(\"writing to database\")\n",
    "        try:\n",
    "            session.execute(table.insert(), package)\n",
    "        except:\n",
    "            print(\"writing to database failed\")\n",
    "            next\n",
    "        print(\"committing files to database\")\n",
    "        session.commit()\n",
    "    album_count += 1"
   ]
  }
 ],
 "metadata": {
  "kernelspec": {
   "display_name": "Python 3",
   "language": "python",
   "name": "python3"
  },
  "language_info": {
   "codemirror_mode": {
    "name": "ipython",
    "version": 3
   },
   "file_extension": ".py",
   "mimetype": "text/x-python",
   "name": "python",
   "nbconvert_exporter": "python",
   "pygments_lexer": "ipython3",
   "version": "3.6.3"
  }
 },
 "nbformat": 4,
 "nbformat_minor": 2
}
